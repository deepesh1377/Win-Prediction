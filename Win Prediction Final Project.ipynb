{
 "cells": [
  {
   "cell_type": "code",
   "execution_count": 1,
   "id": "270b5664",
   "metadata": {},
   "outputs": [],
   "source": [
    "import numpy as np\n",
    "import pandas as pd\n",
    "import matplotlib.pyplot as plt\n",
    "import seaborn as sns\n",
    "%matplotlib inline"
   ]
  },
  {
   "cell_type": "code",
   "execution_count": 2,
   "id": "fdd6c9eb",
   "metadata": {},
   "outputs": [],
   "source": [
    "df = pd.read_excel('Win_Prediction_Data.xlsx')"
   ]
  },
  {
   "cell_type": "code",
   "execution_count": 3,
   "id": "db746612",
   "metadata": {},
   "outputs": [
    {
     "data": {
      "text/html": [
       "<div>\n",
       "<style scoped>\n",
       "    .dataframe tbody tr th:only-of-type {\n",
       "        vertical-align: middle;\n",
       "    }\n",
       "\n",
       "    .dataframe tbody tr th {\n",
       "        vertical-align: top;\n",
       "    }\n",
       "\n",
       "    .dataframe thead th {\n",
       "        text-align: right;\n",
       "    }\n",
       "</style>\n",
       "<table border=\"1\" class=\"dataframe\">\n",
       "  <thead>\n",
       "    <tr style=\"text-align: right;\">\n",
       "      <th></th>\n",
       "      <th>Client Category</th>\n",
       "      <th>Solution Type</th>\n",
       "      <th>Deal Date</th>\n",
       "      <th>Sector</th>\n",
       "      <th>Location</th>\n",
       "      <th>VP Name</th>\n",
       "      <th>Manager Name</th>\n",
       "      <th>Deal Cost</th>\n",
       "      <th>Deal Status Code</th>\n",
       "    </tr>\n",
       "  </thead>\n",
       "  <tbody>\n",
       "    <tr>\n",
       "      <th>0</th>\n",
       "      <td>Telecom</td>\n",
       "      <td>Solution 7</td>\n",
       "      <td>2012-03-27</td>\n",
       "      <td>Sector 24</td>\n",
       "      <td>L5</td>\n",
       "      <td>Ekta Zutshi</td>\n",
       "      <td>Gopa Trilochana</td>\n",
       "      <td>150000.00</td>\n",
       "      <td>Won</td>\n",
       "    </tr>\n",
       "    <tr>\n",
       "      <th>1</th>\n",
       "      <td>Telecom</td>\n",
       "      <td>Solution 7</td>\n",
       "      <td>2012-09-25</td>\n",
       "      <td>Sector 24</td>\n",
       "      <td>L5</td>\n",
       "      <td>Ekta Zutshi</td>\n",
       "      <td>Gopa Trilochana</td>\n",
       "      <td>744705.88</td>\n",
       "      <td>Won</td>\n",
       "    </tr>\n",
       "    <tr>\n",
       "      <th>2</th>\n",
       "      <td>Internal</td>\n",
       "      <td>Solution 59</td>\n",
       "      <td>2011-08-01</td>\n",
       "      <td>Sector 20</td>\n",
       "      <td>Others</td>\n",
       "      <td>Ekta Zutshi</td>\n",
       "      <td>Russell Dahlen</td>\n",
       "      <td>60000.00</td>\n",
       "      <td>Lost</td>\n",
       "    </tr>\n",
       "    <tr>\n",
       "      <th>3</th>\n",
       "      <td>Internal</td>\n",
       "      <td>Solution 59</td>\n",
       "      <td>2011-04-28</td>\n",
       "      <td>Sector 20</td>\n",
       "      <td>Others</td>\n",
       "      <td>Ekta Zutshi</td>\n",
       "      <td>Russell Dahlen</td>\n",
       "      <td>60000.00</td>\n",
       "      <td>Lost</td>\n",
       "    </tr>\n",
       "    <tr>\n",
       "      <th>4</th>\n",
       "      <td>Internal</td>\n",
       "      <td>Solution 32</td>\n",
       "      <td>2011-06-03</td>\n",
       "      <td>Sector 20</td>\n",
       "      <td>Others</td>\n",
       "      <td>Ekta Zutshi</td>\n",
       "      <td>Russell Dahlen</td>\n",
       "      <td>80882.35</td>\n",
       "      <td>Lost</td>\n",
       "    </tr>\n",
       "  </tbody>\n",
       "</table>\n",
       "</div>"
      ],
      "text/plain": [
       "  Client Category Solution Type  Deal Date     Sector Location      VP Name  \\\n",
       "0         Telecom    Solution 7 2012-03-27  Sector 24       L5  Ekta Zutshi   \n",
       "1         Telecom    Solution 7 2012-09-25  Sector 24       L5  Ekta Zutshi   \n",
       "2        Internal   Solution 59 2011-08-01  Sector 20   Others  Ekta Zutshi   \n",
       "3        Internal   Solution 59 2011-04-28  Sector 20   Others  Ekta Zutshi   \n",
       "4        Internal   Solution 32 2011-06-03  Sector 20   Others  Ekta Zutshi   \n",
       "\n",
       "      Manager Name  Deal Cost Deal Status Code  \n",
       "0  Gopa Trilochana  150000.00              Won  \n",
       "1  Gopa Trilochana  744705.88              Won  \n",
       "2   Russell Dahlen   60000.00             Lost  \n",
       "3   Russell Dahlen   60000.00             Lost  \n",
       "4   Russell Dahlen   80882.35             Lost  "
      ]
     },
     "execution_count": 3,
     "metadata": {},
     "output_type": "execute_result"
    }
   ],
   "source": [
    "df.head()"
   ]
  },
  {
   "cell_type": "code",
   "execution_count": 4,
   "id": "7e46f4e5",
   "metadata": {},
   "outputs": [
    {
     "name": "stdout",
     "output_type": "stream",
     "text": [
      "Client Category : 42 labels\n",
      "Solution Type : 67 labels\n",
      "Deal Date : 2555 labels\n",
      "Sector : 25 labels\n",
      "Location : 13 labels\n",
      "VP Name : 43 labels\n",
      "Manager Name : 278 labels\n",
      "Deal Cost : 1469 labels\n",
      "Deal Status Code : 2 labels\n"
     ]
    }
   ],
   "source": [
    "for col in df.columns:\n",
    "    print(col, ':', len(df[col].unique()), 'labels')"
   ]
  },
  {
   "cell_type": "code",
   "execution_count": 5,
   "id": "9e87c3b0",
   "metadata": {},
   "outputs": [
    {
     "data": {
      "text/plain": [
       "(10061, 9)"
      ]
     },
     "execution_count": 5,
     "metadata": {},
     "output_type": "execute_result"
    }
   ],
   "source": [
    "df.shape"
   ]
  },
  {
   "cell_type": "code",
   "execution_count": 6,
   "id": "5e65348b",
   "metadata": {},
   "outputs": [
    {
     "name": "stdout",
     "output_type": "stream",
     "text": [
      "<class 'pandas.core.frame.DataFrame'>\n",
      "RangeIndex: 10061 entries, 0 to 10060\n",
      "Data columns (total 9 columns):\n",
      " #   Column            Non-Null Count  Dtype         \n",
      "---  ------            --------------  -----         \n",
      " 0   Client Category   9982 non-null   object        \n",
      " 1   Solution Type     10061 non-null  object        \n",
      " 2   Deal Date         10061 non-null  datetime64[ns]\n",
      " 3   Sector            10061 non-null  object        \n",
      " 4   Location          10061 non-null  object        \n",
      " 5   VP Name           10061 non-null  object        \n",
      " 6   Manager Name      10061 non-null  object        \n",
      " 7   Deal Cost         10061 non-null  float64       \n",
      " 8   Deal Status Code  10061 non-null  object        \n",
      "dtypes: datetime64[ns](1), float64(1), object(7)\n",
      "memory usage: 707.5+ KB\n"
     ]
    }
   ],
   "source": [
    "df.info()"
   ]
  },
  {
   "cell_type": "code",
   "execution_count": 7,
   "id": "8b7d33d0",
   "metadata": {},
   "outputs": [
    {
     "data": {
      "text/plain": [
       "Client Category     79\n",
       "Solution Type        0\n",
       "Deal Date            0\n",
       "Sector               0\n",
       "Location             0\n",
       "VP Name              0\n",
       "Manager Name         0\n",
       "Deal Cost            0\n",
       "Deal Status Code     0\n",
       "dtype: int64"
      ]
     },
     "execution_count": 7,
     "metadata": {},
     "output_type": "execute_result"
    }
   ],
   "source": [
    "df.isnull().sum()"
   ]
  },
  {
   "cell_type": "markdown",
   "id": "5f7f05d8",
   "metadata": {},
   "source": [
    "In client Category we have 79 missing values for which we dont know which category these clients belong to.. therefor if We put these clients in any category than this may affect our data, so we will drop these 79 rows to improve our model accuracy"
   ]
  },
  {
   "cell_type": "code",
   "execution_count": 8,
   "id": "37e0d7f3",
   "metadata": {},
   "outputs": [],
   "source": [
    "df = df.dropna(axis = 0)"
   ]
  },
  {
   "cell_type": "code",
   "execution_count": 9,
   "id": "c46cf009",
   "metadata": {},
   "outputs": [
    {
     "data": {
      "text/plain": [
       "Client Category     0\n",
       "Solution Type       0\n",
       "Deal Date           0\n",
       "Sector              0\n",
       "Location            0\n",
       "VP Name             0\n",
       "Manager Name        0\n",
       "Deal Cost           0\n",
       "Deal Status Code    0\n",
       "dtype: int64"
      ]
     },
     "execution_count": 9,
     "metadata": {},
     "output_type": "execute_result"
    }
   ],
   "source": [
    "df.isnull().sum()"
   ]
  },
  {
   "cell_type": "code",
   "execution_count": 10,
   "id": "bd0fc8c2",
   "metadata": {},
   "outputs": [
    {
     "data": {
      "text/plain": [
       "(9982, 9)"
      ]
     },
     "execution_count": 10,
     "metadata": {},
     "output_type": "execute_result"
    }
   ],
   "source": [
    "df.shape"
   ]
  },
  {
   "cell_type": "code",
   "execution_count": 11,
   "id": "daaf3388",
   "metadata": {},
   "outputs": [],
   "source": [
    "#Making Another column in the data as 'Deal Result' Where Deal Won is represented as 1 and Deal Lost is represented as 0\n",
    "\n",
    "df['Deal result'] = df['Deal Status Code'].map(dict(Won=1, Lost=0))"
   ]
  },
  {
   "cell_type": "code",
   "execution_count": 12,
   "id": "52589c7e",
   "metadata": {},
   "outputs": [
    {
     "data": {
      "text/plain": [
       "0    0.63\n",
       "1    0.37\n",
       "Name: Deal result, dtype: float64"
      ]
     },
     "execution_count": 12,
     "metadata": {},
     "output_type": "execute_result"
    }
   ],
   "source": [
    "#checking if the data is balanced or not\n",
    "\n",
    "df['Deal result'].value_counts(normalize = True).round(2)"
   ]
  },
  {
   "cell_type": "markdown",
   "id": "0d80b155",
   "metadata": {},
   "source": [
    "Since the data is distributed in 63:37, we can take it as balanced data"
   ]
  },
  {
   "cell_type": "code",
   "execution_count": 13,
   "id": "19c0bd91",
   "metadata": {},
   "outputs": [
    {
     "name": "stdout",
     "output_type": "stream",
     "text": [
      "Mean value of deal cost:  768102.378866957\n",
      "Median value of deal cost:  382352.94\n",
      "Minimum value of deal cost:  0.0\n",
      "Maximum value of deal cost:  36764705.88\n"
     ]
    }
   ],
   "source": [
    "#GETTING THE INSIGHTS OF DEAL COST\n",
    "\n",
    "print('Mean value of deal cost: ', df['Deal Cost'].mean())\n",
    "print('Median value of deal cost: ', df['Deal Cost'].median())\n",
    "print('Minimum value of deal cost: ', df['Deal Cost'].min())\n",
    "print('Maximum value of deal cost: ', df['Deal Cost'].max())"
   ]
  },
  {
   "cell_type": "code",
   "execution_count": 14,
   "id": "07e30ff9",
   "metadata": {},
   "outputs": [
    {
     "data": {
      "image/png": "[encoded data removed]",
      "text/plain": [
       "<Figure size 432x288 with 1 Axes>"
      ]
     },
     "metadata": {
      "needs_background": "light"
     },
     "output_type": "display_data"
    }
   ],
   "source": [
    "#top 5 VPs who were assigned the most numbers of projects\n",
    "df['VP Name'].value_counts().head().plot(kind= 'bar')\n",
    "plt.show()"
   ]
  },
  {
   "cell_type": "code",
   "execution_count": 15,
   "id": "c0269b54",
   "metadata": {},
   "outputs": [
    {
     "data": {
      "image/png": "[encoded data removed]",
      "text/plain": [
       "<Figure size 432x288 with 1 Axes>"
      ]
     },
     "metadata": {
      "needs_background": "light"
     },
     "output_type": "display_data"
    }
   ],
   "source": [
    "#top 5 managers who were assigned the most numbers of projects\n",
    "df['Manager Name'].value_counts().head().plot(kind= 'bar')\n",
    "plt.show()"
   ]
  },
  {
   "cell_type": "code",
   "execution_count": 16,
   "id": "a2bd96ab",
   "metadata": {},
   "outputs": [
    {
     "data": {
      "text/html": [
       "<div>\n",
       "<style scoped>\n",
       "    .dataframe tbody tr th:only-of-type {\n",
       "        vertical-align: middle;\n",
       "    }\n",
       "\n",
       "    .dataframe tbody tr th {\n",
       "        vertical-align: top;\n",
       "    }\n",
       "\n",
       "    .dataframe thead th {\n",
       "        text-align: right;\n",
       "    }\n",
       "</style>\n",
       "<table border=\"1\" class=\"dataframe\">\n",
       "  <thead>\n",
       "    <tr style=\"text-align: right;\">\n",
       "      <th></th>\n",
       "      <th>Client Category</th>\n",
       "      <th>Solution Type</th>\n",
       "      <th>Deal Date</th>\n",
       "      <th>Sector</th>\n",
       "      <th>Location</th>\n",
       "      <th>VP Name</th>\n",
       "      <th>Manager Name</th>\n",
       "      <th>Deal Cost</th>\n",
       "      <th>Deal Status Code</th>\n",
       "      <th>Deal result</th>\n",
       "    </tr>\n",
       "  </thead>\n",
       "  <tbody>\n",
       "    <tr>\n",
       "      <th>0</th>\n",
       "      <td>Telecom</td>\n",
       "      <td>Solution 7</td>\n",
       "      <td>2012-03-27</td>\n",
       "      <td>Sector 24</td>\n",
       "      <td>L5</td>\n",
       "      <td>Ekta Zutshi</td>\n",
       "      <td>Gopa Trilochana</td>\n",
       "      <td>150000.00</td>\n",
       "      <td>Won</td>\n",
       "      <td>1</td>\n",
       "    </tr>\n",
       "    <tr>\n",
       "      <th>1</th>\n",
       "      <td>Telecom</td>\n",
       "      <td>Solution 7</td>\n",
       "      <td>2012-09-25</td>\n",
       "      <td>Sector 24</td>\n",
       "      <td>L5</td>\n",
       "      <td>Ekta Zutshi</td>\n",
       "      <td>Gopa Trilochana</td>\n",
       "      <td>744705.88</td>\n",
       "      <td>Won</td>\n",
       "      <td>1</td>\n",
       "    </tr>\n",
       "    <tr>\n",
       "      <th>2</th>\n",
       "      <td>Internal</td>\n",
       "      <td>Solution 59</td>\n",
       "      <td>2011-08-01</td>\n",
       "      <td>Sector 20</td>\n",
       "      <td>Others</td>\n",
       "      <td>Ekta Zutshi</td>\n",
       "      <td>Russell Dahlen</td>\n",
       "      <td>60000.00</td>\n",
       "      <td>Lost</td>\n",
       "      <td>0</td>\n",
       "    </tr>\n",
       "    <tr>\n",
       "      <th>3</th>\n",
       "      <td>Internal</td>\n",
       "      <td>Solution 59</td>\n",
       "      <td>2011-04-28</td>\n",
       "      <td>Sector 20</td>\n",
       "      <td>Others</td>\n",
       "      <td>Ekta Zutshi</td>\n",
       "      <td>Russell Dahlen</td>\n",
       "      <td>60000.00</td>\n",
       "      <td>Lost</td>\n",
       "      <td>0</td>\n",
       "    </tr>\n",
       "    <tr>\n",
       "      <th>4</th>\n",
       "      <td>Internal</td>\n",
       "      <td>Solution 32</td>\n",
       "      <td>2011-06-03</td>\n",
       "      <td>Sector 20</td>\n",
       "      <td>Others</td>\n",
       "      <td>Ekta Zutshi</td>\n",
       "      <td>Russell Dahlen</td>\n",
       "      <td>80882.35</td>\n",
       "      <td>Lost</td>\n",
       "      <td>0</td>\n",
       "    </tr>\n",
       "  </tbody>\n",
       "</table>\n",
       "</div>"
      ],
      "text/plain": [
       "  Client Category Solution Type  Deal Date     Sector Location      VP Name  \\\n",
       "0         Telecom    Solution 7 2012-03-27  Sector 24       L5  Ekta Zutshi   \n",
       "1         Telecom    Solution 7 2012-09-25  Sector 24       L5  Ekta Zutshi   \n",
       "2        Internal   Solution 59 2011-08-01  Sector 20   Others  Ekta Zutshi   \n",
       "3        Internal   Solution 59 2011-04-28  Sector 20   Others  Ekta Zutshi   \n",
       "4        Internal   Solution 32 2011-06-03  Sector 20   Others  Ekta Zutshi   \n",
       "\n",
       "      Manager Name  Deal Cost Deal Status Code  Deal result  \n",
       "0  Gopa Trilochana  150000.00              Won            1  \n",
       "1  Gopa Trilochana  744705.88              Won            1  \n",
       "2   Russell Dahlen   60000.00             Lost            0  \n",
       "3   Russell Dahlen   60000.00             Lost            0  \n",
       "4   Russell Dahlen   80882.35             Lost            0  "
      ]
     },
     "execution_count": 16,
     "metadata": {},
     "output_type": "execute_result"
    }
   ],
   "source": [
    "df.head()"
   ]
  },
  {
   "cell_type": "markdown",
   "id": "bcbfd665",
   "metadata": {},
   "source": [
    "# Visulaising the features"
   ]
  },
  {
   "cell_type": "code",
   "execution_count": 17,
   "id": "72fa59ee",
   "metadata": {},
   "outputs": [
    {
     "data": {
      "image/png": "[encoded data removed]",
      "text/plain": [
       "<Figure size 720x504 with 1 Axes>"
      ]
     },
     "metadata": {
      "needs_background": "light"
     },
     "output_type": "display_data"
    }
   ],
   "source": [
    "#plot Showing Top 5 client Categories\n",
    "\n",
    "plt.figure(figsize = (10,7))\n",
    "plt.bar(df['Client Category'].value_counts().keys()[0:5], df['Client Category'].value_counts()[0:5],\n",
    "        color = ['orange', 'blue' , 'red', 'green', 'pink'])\n",
    "plt.yticks(size=15)\n",
    "plt.xticks(size=15)\n",
    "plt.title('Top 5 client Categories' , fontsize=20)\n",
    "plt.ylabel(\"Count\",fontsize=20)\n",
    "plt.xlabel(\"Client categories\", fontsize=20)\n",
    "sns.set_style('whitegrid')\n",
    "plt.show()"
   ]
  },
  {
   "cell_type": "code",
   "execution_count": 18,
   "id": "602e4026",
   "metadata": {},
   "outputs": [
    {
     "data": {
      "image/png": "[encoded data removed]",
      "text/plain": [
       "<Figure size 720x504 with 1 Axes>"
      ]
     },
     "metadata": {},
     "output_type": "display_data"
    }
   ],
   "source": [
    "#plot Showing Top 5 Sectors\n",
    "\n",
    "plt.figure(figsize = (10,7))\n",
    "plt.bar(df['Sector'].value_counts().keys()[0:5], df['Sector'].value_counts()[0:5],\n",
    "        color = ['orange', 'blue' , 'red', 'green', 'pink'])\n",
    "plt.yticks(size=15)\n",
    "plt.xticks(size=15)\n",
    "plt.title('Top 5 Sectors' , fontsize=20)\n",
    "plt.ylabel(\"Count\",fontsize=20)\n",
    "plt.xlabel(\"Sectors\", fontsize=20)\n",
    "plt.show()"
   ]
  },
  {
   "cell_type": "code",
   "execution_count": 19,
   "id": "5d8e5cd1",
   "metadata": {},
   "outputs": [
    {
     "data": {
      "image/png": "[encoded data removed]",
      "text/plain": [
       "<Figure size 720x504 with 1 Axes>"
      ]
     },
     "metadata": {},
     "output_type": "display_data"
    }
   ],
   "source": [
    "#plot Showing Top 5 Solution Type\n",
    "\n",
    "plt.figure(figsize = (10,7))\n",
    "plt.bar(df['Solution Type'].value_counts().keys()[0:5], df['Solution Type'].value_counts()[0:5],\n",
    "        color = ['orange', 'blue' , 'red', 'green', 'pink'])\n",
    "plt.yticks(size=15)\n",
    "plt.xticks(size=15)\n",
    "plt.title('Top 5 Solution Type' , fontsize=20)\n",
    "plt.ylabel(\"Count\",fontsize=20)\n",
    "plt.xlabel(\"Solution Types\", fontsize=20)\n",
    "plt.show()"
   ]
  },
  {
   "cell_type": "code",
   "execution_count": 20,
   "id": "53c32c55",
   "metadata": {},
   "outputs": [
    {
     "data": {
      "image/png": "[encoded data removed]",
      "text/plain": [
       "<Figure size 720x504 with 1 Axes>"
      ]
     },
     "metadata": {},
     "output_type": "display_data"
    }
   ],
   "source": [
    "#plot Showing Top 5 Locations\n",
    "\n",
    "plt.figure(figsize = (10,7))\n",
    "plt.bar(df['Location'].value_counts().keys()[0:5], df['Location'].value_counts()[0:5],\n",
    "        color = ['orange', 'blue' , 'red', 'green', 'pink'])\n",
    "plt.yticks(size=15)\n",
    "plt.xticks(size=15)\n",
    "plt.title('Top 5 Locations' , fontsize=20)\n",
    "plt.ylabel(\"Count\",fontsize=20)\n",
    "plt.xlabel(\"Locations\", fontsize=20)\n",
    "plt.show()"
   ]
  },
  {
   "cell_type": "code",
   "execution_count": 21,
   "id": "b7b26d4d",
   "metadata": {},
   "outputs": [],
   "source": [
    "df['Month'] = df['Deal Date'].dt.month"
   ]
  },
  {
   "cell_type": "code",
   "execution_count": 22,
   "id": "f210dc33",
   "metadata": {},
   "outputs": [
    {
     "data": {
      "text/html": [
       "<div>\n",
       "<style scoped>\n",
       "    .dataframe tbody tr th:only-of-type {\n",
       "        vertical-align: middle;\n",
       "    }\n",
       "\n",
       "    .dataframe tbody tr th {\n",
       "        vertical-align: top;\n",
       "    }\n",
       "\n",
       "    .dataframe thead th {\n",
       "        text-align: right;\n",
       "    }\n",
       "</style>\n",
       "<table border=\"1\" class=\"dataframe\">\n",
       "  <thead>\n",
       "    <tr style=\"text-align: right;\">\n",
       "      <th></th>\n",
       "      <th>Client Category</th>\n",
       "      <th>Solution Type</th>\n",
       "      <th>Deal Date</th>\n",
       "      <th>Sector</th>\n",
       "      <th>Location</th>\n",
       "      <th>VP Name</th>\n",
       "      <th>Manager Name</th>\n",
       "      <th>Deal Cost</th>\n",
       "      <th>Deal Status Code</th>\n",
       "      <th>Deal result</th>\n",
       "      <th>Month</th>\n",
       "    </tr>\n",
       "  </thead>\n",
       "  <tbody>\n",
       "    <tr>\n",
       "      <th>0</th>\n",
       "      <td>Telecom</td>\n",
       "      <td>Solution 7</td>\n",
       "      <td>2012-03-27</td>\n",
       "      <td>Sector 24</td>\n",
       "      <td>L5</td>\n",
       "      <td>Ekta Zutshi</td>\n",
       "      <td>Gopa Trilochana</td>\n",
       "      <td>150000.00</td>\n",
       "      <td>Won</td>\n",
       "      <td>1</td>\n",
       "      <td>3</td>\n",
       "    </tr>\n",
       "    <tr>\n",
       "      <th>1</th>\n",
       "      <td>Telecom</td>\n",
       "      <td>Solution 7</td>\n",
       "      <td>2012-09-25</td>\n",
       "      <td>Sector 24</td>\n",
       "      <td>L5</td>\n",
       "      <td>Ekta Zutshi</td>\n",
       "      <td>Gopa Trilochana</td>\n",
       "      <td>744705.88</td>\n",
       "      <td>Won</td>\n",
       "      <td>1</td>\n",
       "      <td>9</td>\n",
       "    </tr>\n",
       "    <tr>\n",
       "      <th>2</th>\n",
       "      <td>Internal</td>\n",
       "      <td>Solution 59</td>\n",
       "      <td>2011-08-01</td>\n",
       "      <td>Sector 20</td>\n",
       "      <td>Others</td>\n",
       "      <td>Ekta Zutshi</td>\n",
       "      <td>Russell Dahlen</td>\n",
       "      <td>60000.00</td>\n",
       "      <td>Lost</td>\n",
       "      <td>0</td>\n",
       "      <td>8</td>\n",
       "    </tr>\n",
       "    <tr>\n",
       "      <th>3</th>\n",
       "      <td>Internal</td>\n",
       "      <td>Solution 59</td>\n",
       "      <td>2011-04-28</td>\n",
       "      <td>Sector 20</td>\n",
       "      <td>Others</td>\n",
       "      <td>Ekta Zutshi</td>\n",
       "      <td>Russell Dahlen</td>\n",
       "      <td>60000.00</td>\n",
       "      <td>Lost</td>\n",
       "      <td>0</td>\n",
       "      <td>4</td>\n",
       "    </tr>\n",
       "    <tr>\n",
       "      <th>4</th>\n",
       "      <td>Internal</td>\n",
       "      <td>Solution 32</td>\n",
       "      <td>2011-06-03</td>\n",
       "      <td>Sector 20</td>\n",
       "      <td>Others</td>\n",
       "      <td>Ekta Zutshi</td>\n",
       "      <td>Russell Dahlen</td>\n",
       "      <td>80882.35</td>\n",
       "      <td>Lost</td>\n",
       "      <td>0</td>\n",
       "      <td>6</td>\n",
       "    </tr>\n",
       "  </tbody>\n",
       "</table>\n",
       "</div>"
      ],
      "text/plain": [
       "  Client Category Solution Type  Deal Date     Sector Location      VP Name  \\\n",
       "0         Telecom    Solution 7 2012-03-27  Sector 24       L5  Ekta Zutshi   \n",
       "1         Telecom    Solution 7 2012-09-25  Sector 24       L5  Ekta Zutshi   \n",
       "2        Internal   Solution 59 2011-08-01  Sector 20   Others  Ekta Zutshi   \n",
       "3        Internal   Solution 59 2011-04-28  Sector 20   Others  Ekta Zutshi   \n",
       "4        Internal   Solution 32 2011-06-03  Sector 20   Others  Ekta Zutshi   \n",
       "\n",
       "      Manager Name  Deal Cost Deal Status Code  Deal result  Month  \n",
       "0  Gopa Trilochana  150000.00              Won            1      3  \n",
       "1  Gopa Trilochana  744705.88              Won            1      9  \n",
       "2   Russell Dahlen   60000.00             Lost            0      8  \n",
       "3   Russell Dahlen   60000.00             Lost            0      4  \n",
       "4   Russell Dahlen   80882.35             Lost            0      6  "
      ]
     },
     "execution_count": 22,
     "metadata": {},
     "output_type": "execute_result"
    }
   ],
   "source": [
    "df.head()"
   ]
  },
  {
   "cell_type": "code",
   "execution_count": 23,
   "id": "86d977fe",
   "metadata": {},
   "outputs": [
    {
     "data": {
      "image/png": "[encoded data removed]",
      "text/plain": [
       "<Figure size 504x504 with 1 Axes>"
      ]
     },
     "metadata": {},
     "output_type": "display_data"
    }
   ],
   "source": [
    "#Checking the number of deals Month wise\n",
    "plt.figure(figsize = (7,7))\n",
    "plt.plot(df['Month'].value_counts().keys(), df['Month'].value_counts(), color =  'green', marker = 'o')\n",
    "plt.show()"
   ]
  },
  {
   "cell_type": "markdown",
   "id": "bcb5f2fe",
   "metadata": {},
   "source": [
    "From the above observation we can conclude that the deals took place almost every month of the year, therefore it does not make any impact to model hence will not use it in our model building"
   ]
  },
  {
   "cell_type": "markdown",
   "id": "ee226752",
   "metadata": {},
   "source": [
    "# Extracting data which only comprises of won deals and storing it in another datframe named won_data"
   ]
  },
  {
   "cell_type": "code",
   "execution_count": 24,
   "id": "7dd53aa2",
   "metadata": {},
   "outputs": [
    {
     "data": {
      "text/html": [
       "<div>\n",
       "<style scoped>\n",
       "    .dataframe tbody tr th:only-of-type {\n",
       "        vertical-align: middle;\n",
       "    }\n",
       "\n",
       "    .dataframe tbody tr th {\n",
       "        vertical-align: top;\n",
       "    }\n",
       "\n",
       "    .dataframe thead th {\n",
       "        text-align: right;\n",
       "    }\n",
       "</style>\n",
       "<table border=\"1\" class=\"dataframe\">\n",
       "  <thead>\n",
       "    <tr style=\"text-align: right;\">\n",
       "      <th></th>\n",
       "      <th>Client Category</th>\n",
       "      <th>Solution Type</th>\n",
       "      <th>Deal Date</th>\n",
       "      <th>Sector</th>\n",
       "      <th>Location</th>\n",
       "      <th>VP Name</th>\n",
       "      <th>Manager Name</th>\n",
       "      <th>Deal Cost</th>\n",
       "      <th>Deal Status Code</th>\n",
       "      <th>Deal result</th>\n",
       "      <th>Month</th>\n",
       "    </tr>\n",
       "  </thead>\n",
       "  <tbody>\n",
       "    <tr>\n",
       "      <th>0</th>\n",
       "      <td>Telecom</td>\n",
       "      <td>Solution 7</td>\n",
       "      <td>2012-03-27</td>\n",
       "      <td>Sector 24</td>\n",
       "      <td>L5</td>\n",
       "      <td>Ekta Zutshi</td>\n",
       "      <td>Gopa Trilochana</td>\n",
       "      <td>150000.00</td>\n",
       "      <td>Won</td>\n",
       "      <td>1</td>\n",
       "      <td>3</td>\n",
       "    </tr>\n",
       "    <tr>\n",
       "      <th>1</th>\n",
       "      <td>Telecom</td>\n",
       "      <td>Solution 7</td>\n",
       "      <td>2012-09-25</td>\n",
       "      <td>Sector 24</td>\n",
       "      <td>L5</td>\n",
       "      <td>Ekta Zutshi</td>\n",
       "      <td>Gopa Trilochana</td>\n",
       "      <td>744705.88</td>\n",
       "      <td>Won</td>\n",
       "      <td>1</td>\n",
       "      <td>9</td>\n",
       "    </tr>\n",
       "    <tr>\n",
       "      <th>6</th>\n",
       "      <td>Internal</td>\n",
       "      <td>Solution 59</td>\n",
       "      <td>2011-11-03</td>\n",
       "      <td>Sector 2</td>\n",
       "      <td>L10</td>\n",
       "      <td>Mervin Harwood</td>\n",
       "      <td>rahul sharma</td>\n",
       "      <td>526176.47</td>\n",
       "      <td>Won</td>\n",
       "      <td>1</td>\n",
       "      <td>11</td>\n",
       "    </tr>\n",
       "    <tr>\n",
       "      <th>8</th>\n",
       "      <td>Consumer Good</td>\n",
       "      <td>Solution 42</td>\n",
       "      <td>2012-04-11</td>\n",
       "      <td>Sector 12</td>\n",
       "      <td>L10</td>\n",
       "      <td>Lilli Storrs</td>\n",
       "      <td>Md. Daud</td>\n",
       "      <td>1032352.94</td>\n",
       "      <td>Won</td>\n",
       "      <td>1</td>\n",
       "      <td>4</td>\n",
       "    </tr>\n",
       "    <tr>\n",
       "      <th>10</th>\n",
       "      <td>International Bank</td>\n",
       "      <td>Solution 6</td>\n",
       "      <td>2012-02-11</td>\n",
       "      <td>Sector 2</td>\n",
       "      <td>L10</td>\n",
       "      <td>Long Bergstrom</td>\n",
       "      <td>Luv Malhotra</td>\n",
       "      <td>316176.47</td>\n",
       "      <td>Won</td>\n",
       "      <td>1</td>\n",
       "      <td>2</td>\n",
       "    </tr>\n",
       "  </tbody>\n",
       "</table>\n",
       "</div>"
      ],
      "text/plain": [
       "       Client Category Solution Type  Deal Date     Sector Location  \\\n",
       "0              Telecom    Solution 7 2012-03-27  Sector 24       L5   \n",
       "1              Telecom    Solution 7 2012-09-25  Sector 24       L5   \n",
       "6             Internal   Solution 59 2011-11-03   Sector 2      L10   \n",
       "8        Consumer Good   Solution 42 2012-04-11  Sector 12      L10   \n",
       "10  International Bank    Solution 6 2012-02-11   Sector 2      L10   \n",
       "\n",
       "           VP Name     Manager Name   Deal Cost Deal Status Code  Deal result  \\\n",
       "0      Ekta Zutshi  Gopa Trilochana   150000.00              Won            1   \n",
       "1      Ekta Zutshi  Gopa Trilochana   744705.88              Won            1   \n",
       "6   Mervin Harwood     rahul sharma   526176.47              Won            1   \n",
       "8     Lilli Storrs         Md. Daud  1032352.94              Won            1   \n",
       "10  Long Bergstrom     Luv Malhotra   316176.47              Won            1   \n",
       "\n",
       "    Month  \n",
       "0       3  \n",
       "1       9  \n",
       "6      11  \n",
       "8       4  \n",
       "10      2  "
      ]
     },
     "execution_count": 24,
     "metadata": {},
     "output_type": "execute_result"
    }
   ],
   "source": [
    "won_data = df[df['Deal result'] ==1]\n",
    "won_data.head()"
   ]
  },
  {
   "cell_type": "code",
   "execution_count": 25,
   "id": "b8221f99",
   "metadata": {},
   "outputs": [
    {
     "name": "stdout",
     "output_type": "stream",
     "text": [
      "(3734, 11)\n",
      "Won    3734\n",
      "Name: Deal Status Code, dtype: int64\n"
     ]
    }
   ],
   "source": [
    "#Checking the Data\n",
    "\n",
    "print(won_data.shape)\n",
    "print(won_data['Deal Status Code'].value_counts())"
   ]
  },
  {
   "cell_type": "code",
   "execution_count": 26,
   "id": "f03a04ac",
   "metadata": {},
   "outputs": [
    {
     "data": {
      "text/html": [
       "<div>\n",
       "<style scoped>\n",
       "    .dataframe tbody tr th:only-of-type {\n",
       "        vertical-align: middle;\n",
       "    }\n",
       "\n",
       "    .dataframe tbody tr th {\n",
       "        vertical-align: top;\n",
       "    }\n",
       "\n",
       "    .dataframe thead th {\n",
       "        text-align: right;\n",
       "    }\n",
       "</style>\n",
       "<table border=\"1\" class=\"dataframe\">\n",
       "  <thead>\n",
       "    <tr style=\"text-align: right;\">\n",
       "      <th></th>\n",
       "      <th>VP Name</th>\n",
       "      <th>Manager Name</th>\n",
       "    </tr>\n",
       "  </thead>\n",
       "  <tbody>\n",
       "    <tr>\n",
       "      <th>0</th>\n",
       "      <td>Ekta Zutshi</td>\n",
       "      <td>Gopa Trilochana</td>\n",
       "    </tr>\n",
       "    <tr>\n",
       "      <th>1</th>\n",
       "      <td>Ekta Zutshi</td>\n",
       "      <td>Gopa Trilochana</td>\n",
       "    </tr>\n",
       "    <tr>\n",
       "      <th>6</th>\n",
       "      <td>Mervin Harwood</td>\n",
       "      <td>rahul sharma</td>\n",
       "    </tr>\n",
       "    <tr>\n",
       "      <th>8</th>\n",
       "      <td>Lilli Storrs</td>\n",
       "      <td>Md. Daud</td>\n",
       "    </tr>\n",
       "    <tr>\n",
       "      <th>10</th>\n",
       "      <td>Long Bergstrom</td>\n",
       "      <td>Luv Malhotra</td>\n",
       "    </tr>\n",
       "  </tbody>\n",
       "</table>\n",
       "</div>"
      ],
      "text/plain": [
       "           VP Name     Manager Name\n",
       "0      Ekta Zutshi  Gopa Trilochana\n",
       "1      Ekta Zutshi  Gopa Trilochana\n",
       "6   Mervin Harwood     rahul sharma\n",
       "8     Lilli Storrs         Md. Daud\n",
       "10  Long Bergstrom     Luv Malhotra"
      ]
     },
     "execution_count": 26,
     "metadata": {},
     "output_type": "execute_result"
    }
   ],
   "source": [
    "# To get the combinations of Top 5 VPS and Managers we only need these columns in won_data\n",
    "\n",
    "won_data = won_data[['VP Name', 'Manager Name']]\n",
    "won_data.head()"
   ]
  },
  {
   "cell_type": "code",
   "execution_count": 27,
   "id": "a6a6c42e",
   "metadata": {},
   "outputs": [],
   "source": [
    "#Calculating Top 5 VPs by ratio of Deals won with Total Projects handelled\n",
    "\n",
    "top_5_VPs_by_ratios = won_data['VP Name'].value_counts()/df['VP Name'].value_counts()\n",
    "top_5_Vps = top_5_VPs_by_ratios.sort_values(ascending= False)[0:5]"
   ]
  },
  {
   "cell_type": "code",
   "execution_count": 28,
   "id": "e61dd5b5",
   "metadata": {},
   "outputs": [],
   "source": [
    "#Calculating Top 5 Managers by ratio of Deals won with Total Projects handelled\n",
    "\n",
    "top_5_Managers_by_ratios = won_data['Manager Name'].value_counts()/df['Manager Name'].value_counts()\n",
    "top_5_Managers = top_5_Managers_by_ratios.sort_values(ascending= False)[0:5]"
   ]
  },
  {
   "cell_type": "markdown",
   "id": "63bcdcac",
   "metadata": {},
   "source": [
    "# Plotting Top 5 VPs who won the deal (by numbers and By ratios)\n"
   ]
  },
  {
   "cell_type": "code",
   "execution_count": 29,
   "id": "43cc97bd",
   "metadata": {},
   "outputs": [
    {
     "data": {
      "image/png": "[encoded data removed]",
      "text/plain": [
       "<Figure size 1440x720 with 2 Axes>"
      ]
     },
     "metadata": {},
     "output_type": "display_data"
    }
   ],
   "source": [
    "plt.figure(figsize = (20,10))\n",
    "plt.subplot(1,2,1)\n",
    "plt.bar(list(won_data['VP Name'].value_counts().keys()[0:5]), list(won_data['VP Name'].value_counts()[0:5]),\n",
    "       color = ['orange', 'blue' , 'red', 'green', 'pink'])\n",
    "plt.xlabel('VP Name', size = 15)\n",
    "plt.ylabel('Number of Deals Won', size = 15)\n",
    "plt.xticks(size = 12)\n",
    "plt.yticks(size = 14)\n",
    "plt.title('Top 5 VPs (by Number of deals won)', size = 17)\n",
    "\n",
    "plt.subplot(1,2,2)\n",
    "top_5_Vps.plot.bar(color = ['orange', 'blue' , 'red', 'green', 'pink'])\n",
    "plt.title('Top 5 VPs who won the deal (by ratios with Total)', size = 17)\n",
    "plt.xlabel('VP Name',size = 15)\n",
    "plt.ylabel('Ratios of Deals Won', size = 15)\n",
    "plt.xticks(size = 12, rotation = 0)\n",
    "plt.yticks(size = 14)\n",
    "plt.show()"
   ]
  },
  {
   "cell_type": "markdown",
   "id": "9e5f73c6",
   "metadata": {},
   "source": [
    "# Plotting Top 5 Managers who won the deal (by numbers and By ratios)"
   ]
  },
  {
   "cell_type": "code",
   "execution_count": 30,
   "id": "3a64545d",
   "metadata": {},
   "outputs": [
    {
     "data": {
      "image/png": "[encoded data removed]",
      "text/plain": [
       "<Figure size 1440x720 with 2 Axes>"
      ]
     },
     "metadata": {},
     "output_type": "display_data"
    }
   ],
   "source": [
    "plt.figure(figsize = (20,10))\n",
    "plt.subplot(1,2,1)\n",
    "plt.bar(list(won_data['Manager Name'].value_counts().keys()[0:5]), list(won_data['Manager Name'].value_counts()[0:5]),\n",
    "       color = ['orange', 'blue' , 'red', 'green', 'pink'])\n",
    "plt.xlabel('Manager Name', size = 15)\n",
    "plt.ylabel('Number of Deals Won', size = 15)\n",
    "plt.xticks(size = 12)\n",
    "plt.yticks(size = 14)\n",
    "plt.title('Top 5 Managers (by Number of deals won)', size = 17)\n",
    "\n",
    "plt.subplot(1,2,2)\n",
    "top_5_Managers.plot.bar(color = ['orange', 'blue' , 'red', 'green', 'pink'])\n",
    "plt.title('Top 5 Managers who won the deal (by ratios with Total)', size = 17)\n",
    "plt.xlabel('Manager Name',size = 15)\n",
    "plt.ylabel('Ratios of Deals Won', size = 15)\n",
    "plt.xticks(size = 12, rotation = 0)\n",
    "plt.yticks(size = 14)\n",
    "plt.show()"
   ]
  },
  {
   "cell_type": "markdown",
   "id": "70c213cb",
   "metadata": {},
   "source": [
    "# Getting Top 5 Combinations of VPs and Managers who won the deal"
   ]
  },
  {
   "cell_type": "code",
   "execution_count": 31,
   "id": "c5d5016a",
   "metadata": {},
   "outputs": [],
   "source": [
    "combinations = won_data.groupby(['VP Name','Manager Name']).size().reset_index().rename(columns={0:'count'})"
   ]
  },
  {
   "cell_type": "code",
   "execution_count": 32,
   "id": "aaa44ef4",
   "metadata": {},
   "outputs": [
    {
     "data": {
      "text/html": [
       "<div>\n",
       "<style scoped>\n",
       "    .dataframe tbody tr th:only-of-type {\n",
       "        vertical-align: middle;\n",
       "    }\n",
       "\n",
       "    .dataframe tbody tr th {\n",
       "        vertical-align: top;\n",
       "    }\n",
       "\n",
       "    .dataframe thead th {\n",
       "        text-align: right;\n",
       "    }\n",
       "</style>\n",
       "<table border=\"1\" class=\"dataframe\">\n",
       "  <thead>\n",
       "    <tr style=\"text-align: right;\">\n",
       "      <th></th>\n",
       "      <th>VP Name</th>\n",
       "      <th>Manager Name</th>\n",
       "      <th>count</th>\n",
       "    </tr>\n",
       "  </thead>\n",
       "  <tbody>\n",
       "    <tr>\n",
       "      <th>265</th>\n",
       "      <td>Long Bergstrom</td>\n",
       "      <td>Russell Dahlen</td>\n",
       "      <td>73</td>\n",
       "    </tr>\n",
       "    <tr>\n",
       "      <th>444</th>\n",
       "      <td>Rahul Bajpai</td>\n",
       "      <td>Rudraksh Sharma</td>\n",
       "      <td>72</td>\n",
       "    </tr>\n",
       "    <tr>\n",
       "      <th>656</th>\n",
       "      <td>neeraj kumar</td>\n",
       "      <td>Molly Eakes</td>\n",
       "      <td>62</td>\n",
       "    </tr>\n",
       "    <tr>\n",
       "      <th>27</th>\n",
       "      <td>Ankita Aggarwal</td>\n",
       "      <td>Desmond Krout</td>\n",
       "      <td>52</td>\n",
       "    </tr>\n",
       "    <tr>\n",
       "      <th>664</th>\n",
       "      <td>neeraj kumar</td>\n",
       "      <td>Vinay Kumar</td>\n",
       "      <td>51</td>\n",
       "    </tr>\n",
       "  </tbody>\n",
       "</table>\n",
       "</div>"
      ],
      "text/plain": [
       "             VP Name     Manager Name  count\n",
       "265   Long Bergstrom   Russell Dahlen     73\n",
       "444     Rahul Bajpai  Rudraksh Sharma     72\n",
       "656     neeraj kumar      Molly Eakes     62\n",
       "27   Ankita Aggarwal    Desmond Krout     52\n",
       "664     neeraj kumar      Vinay Kumar     51"
      ]
     },
     "execution_count": 32,
     "metadata": {},
     "output_type": "execute_result"
    }
   ],
   "source": [
    "top_5_combinations = combinations.sort_values(by = 'count', ascending = False)[0:5]\n",
    "top_5_combinations"
   ]
  },
  {
   "cell_type": "code",
   "execution_count": 33,
   "id": "331c71c5",
   "metadata": {},
   "outputs": [
    {
     "data": {
      "image/png": "[encoded data removed]",
      "text/plain": [
       "<Figure size 1080x504 with 1 Axes>"
      ]
     },
     "metadata": {},
     "output_type": "display_data"
    }
   ],
   "source": [
    "top_5_combinations['Combinations'] = top_5_combinations['VP Name'] + ' & ' + top_5_combinations['Manager Name']\n",
    "\n",
    "plt.figure(figsize = (15,7))\n",
    "plt.bar(top_5_combinations['Combinations'], top_5_combinations['count'],\n",
    "        color = ['orange', 'blue' , 'red', 'green', 'pink'])\n",
    "plt.yticks(size=15)\n",
    "plt.xticks(size=12, rotation=10, linespacing=0.4)\n",
    "plt.title('Top 5 combinations of VPs and Managers' , fontsize=20)\n",
    "plt.ylabel(\"Count\",fontsize=20)\n",
    "plt.xlabel(\"Locations\", fontsize=20)\n",
    "plt.show()"
   ]
  },
  {
   "cell_type": "markdown",
   "id": "c65166e2",
   "metadata": {},
   "source": [
    "# Making new data set for model building and including only required columns\n",
    "\n",
    "- Dropping Deal Date and Month because it does not have any effect on Traget class\n",
    "- Dropping Sector because it is same as location according to Data Dictionary\n",
    "- Dropping Deal Status code because we have alreaddy created similar column as Deal Result\n",
    "- Dropping VP name and manager Name because they are identifiers"
   ]
  },
  {
   "cell_type": "code",
   "execution_count": 34,
   "id": "8c24cc6e",
   "metadata": {},
   "outputs": [
    {
     "data": {
      "text/html": [
       "<div>\n",
       "<style scoped>\n",
       "    .dataframe tbody tr th:only-of-type {\n",
       "        vertical-align: middle;\n",
       "    }\n",
       "\n",
       "    .dataframe tbody tr th {\n",
       "        vertical-align: top;\n",
       "    }\n",
       "\n",
       "    .dataframe thead th {\n",
       "        text-align: right;\n",
       "    }\n",
       "</style>\n",
       "<table border=\"1\" class=\"dataframe\">\n",
       "  <thead>\n",
       "    <tr style=\"text-align: right;\">\n",
       "      <th></th>\n",
       "      <th>Client Category</th>\n",
       "      <th>Solution Type</th>\n",
       "      <th>Deal Date</th>\n",
       "      <th>Sector</th>\n",
       "      <th>Location</th>\n",
       "      <th>VP Name</th>\n",
       "      <th>Manager Name</th>\n",
       "      <th>Deal Cost</th>\n",
       "      <th>Deal Status Code</th>\n",
       "      <th>Deal result</th>\n",
       "      <th>Month</th>\n",
       "    </tr>\n",
       "  </thead>\n",
       "  <tbody>\n",
       "    <tr>\n",
       "      <th>7907</th>\n",
       "      <td>Tech</td>\n",
       "      <td>Solution 9</td>\n",
       "      <td>2014-12-21</td>\n",
       "      <td>Sector 2</td>\n",
       "      <td>L10</td>\n",
       "      <td>Rosanna Maynez</td>\n",
       "      <td>Fredricka Bald</td>\n",
       "      <td>0.0</td>\n",
       "      <td>Lost</td>\n",
       "      <td>0</td>\n",
       "      <td>12</td>\n",
       "    </tr>\n",
       "  </tbody>\n",
       "</table>\n",
       "</div>"
      ],
      "text/plain": [
       "     Client Category Solution Type  Deal Date    Sector Location  \\\n",
       "7907            Tech    Solution 9 2014-12-21  Sector 2      L10   \n",
       "\n",
       "             VP Name    Manager Name  Deal Cost Deal Status Code  Deal result  \\\n",
       "7907  Rosanna Maynez  Fredricka Bald        0.0             Lost            0   \n",
       "\n",
       "      Month  \n",
       "7907     12  "
      ]
     },
     "execution_count": 34,
     "metadata": {},
     "output_type": "execute_result"
    }
   ],
   "source": [
    "df.sample()"
   ]
  },
  {
   "cell_type": "code",
   "execution_count": 35,
   "id": "6e472eb5",
   "metadata": {},
   "outputs": [],
   "source": [
    "new_df = df[['Client Category', 'Solution Type', 'Location', 'Deal Cost', 'Deal result']]"
   ]
  },
  {
   "cell_type": "code",
   "execution_count": 36,
   "id": "6f6f16ff",
   "metadata": {},
   "outputs": [
    {
     "data": {
      "text/html": [
       "<div>\n",
       "<style scoped>\n",
       "    .dataframe tbody tr th:only-of-type {\n",
       "        vertical-align: middle;\n",
       "    }\n",
       "\n",
       "    .dataframe tbody tr th {\n",
       "        vertical-align: top;\n",
       "    }\n",
       "\n",
       "    .dataframe thead th {\n",
       "        text-align: right;\n",
       "    }\n",
       "</style>\n",
       "<table border=\"1\" class=\"dataframe\">\n",
       "  <thead>\n",
       "    <tr style=\"text-align: right;\">\n",
       "      <th></th>\n",
       "      <th>Client Category</th>\n",
       "      <th>Solution Type</th>\n",
       "      <th>Location</th>\n",
       "      <th>Deal Cost</th>\n",
       "      <th>Deal result</th>\n",
       "    </tr>\n",
       "  </thead>\n",
       "  <tbody>\n",
       "    <tr>\n",
       "      <th>3527</th>\n",
       "      <td>Services_based</td>\n",
       "      <td>Solution 32</td>\n",
       "      <td>L1</td>\n",
       "      <td>147058.82</td>\n",
       "      <td>0</td>\n",
       "    </tr>\n",
       "  </tbody>\n",
       "</table>\n",
       "</div>"
      ],
      "text/plain": [
       "     Client Category Solution Type Location  Deal Cost  Deal result\n",
       "3527  Services_based   Solution 32       L1  147058.82            0"
      ]
     },
     "execution_count": 36,
     "metadata": {},
     "output_type": "execute_result"
    }
   ],
   "source": [
    "new_df.sample()"
   ]
  },
  {
   "cell_type": "code",
   "execution_count": 37,
   "id": "fa32fc3b",
   "metadata": {},
   "outputs": [],
   "source": [
    "#Encoding the categorical Variables\n",
    "\n",
    "new_df = pd.get_dummies(new_df, drop_first=True)"
   ]
  },
  {
   "cell_type": "code",
   "execution_count": 38,
   "id": "aa3cc6cd",
   "metadata": {},
   "outputs": [
    {
     "data": {
      "text/html": [
       "<div>\n",
       "<style scoped>\n",
       "    .dataframe tbody tr th:only-of-type {\n",
       "        vertical-align: middle;\n",
       "    }\n",
       "\n",
       "    .dataframe tbody tr th {\n",
       "        vertical-align: top;\n",
       "    }\n",
       "\n",
       "    .dataframe thead th {\n",
       "        text-align: right;\n",
       "    }\n",
       "</style>\n",
       "<table border=\"1\" class=\"dataframe\">\n",
       "  <thead>\n",
       "    <tr style=\"text-align: right;\">\n",
       "      <th></th>\n",
       "      <th>Deal Cost</th>\n",
       "      <th>Deal result</th>\n",
       "      <th>Client Category_Automobiles</th>\n",
       "      <th>Client Category_Consulting</th>\n",
       "      <th>Client Category_Consumer Good</th>\n",
       "      <th>Client Category_Domestic Bank</th>\n",
       "      <th>Client Category_Domestic Private Bank</th>\n",
       "      <th>Client Category_Domestic Public Bank</th>\n",
       "      <th>Client Category_Electronics</th>\n",
       "      <th>Client Category_Energy</th>\n",
       "      <th>...</th>\n",
       "      <th>Location_L12</th>\n",
       "      <th>Location_L2</th>\n",
       "      <th>Location_L3</th>\n",
       "      <th>Location_L4</th>\n",
       "      <th>Location_L5</th>\n",
       "      <th>Location_L6</th>\n",
       "      <th>Location_L7</th>\n",
       "      <th>Location_L8</th>\n",
       "      <th>Location_L9</th>\n",
       "      <th>Location_Others</th>\n",
       "    </tr>\n",
       "  </thead>\n",
       "  <tbody>\n",
       "    <tr>\n",
       "      <th>2304</th>\n",
       "      <td>235294.12</td>\n",
       "      <td>1</td>\n",
       "      <td>0</td>\n",
       "      <td>0</td>\n",
       "      <td>0</td>\n",
       "      <td>0</td>\n",
       "      <td>0</td>\n",
       "      <td>0</td>\n",
       "      <td>0</td>\n",
       "      <td>0</td>\n",
       "      <td>...</td>\n",
       "      <td>0</td>\n",
       "      <td>0</td>\n",
       "      <td>0</td>\n",
       "      <td>0</td>\n",
       "      <td>1</td>\n",
       "      <td>0</td>\n",
       "      <td>0</td>\n",
       "      <td>0</td>\n",
       "      <td>0</td>\n",
       "      <td>0</td>\n",
       "    </tr>\n",
       "  </tbody>\n",
       "</table>\n",
       "<p>1 rows × 120 columns</p>\n",
       "</div>"
      ],
      "text/plain": [
       "      Deal Cost  Deal result  Client Category_Automobiles  \\\n",
       "2304  235294.12            1                            0   \n",
       "\n",
       "      Client Category_Consulting  Client Category_Consumer Good  \\\n",
       "2304                           0                              0   \n",
       "\n",
       "      Client Category_Domestic Bank  Client Category_Domestic Private Bank  \\\n",
       "2304                              0                                      0   \n",
       "\n",
       "      Client Category_Domestic Public Bank  Client Category_Electronics  \\\n",
       "2304                                     0                            0   \n",
       "\n",
       "      Client Category_Energy  ...  Location_L12  Location_L2  Location_L3  \\\n",
       "2304                       0  ...             0            0            0   \n",
       "\n",
       "      Location_L4  Location_L5  Location_L6  Location_L7  Location_L8  \\\n",
       "2304            0            1            0            0            0   \n",
       "\n",
       "      Location_L9  Location_Others  \n",
       "2304            0                0  \n",
       "\n",
       "[1 rows x 120 columns]"
      ]
     },
     "execution_count": 38,
     "metadata": {},
     "output_type": "execute_result"
    }
   ],
   "source": [
    "new_df.sample()"
   ]
  },
  {
   "cell_type": "code",
   "execution_count": 39,
   "id": "4193ff51",
   "metadata": {},
   "outputs": [],
   "source": [
    "#from sklearn.preprocessing import MinMaxScaler\n",
    "#scaler = MinMaxScaler()"
   ]
  },
  {
   "cell_type": "code",
   "execution_count": 40,
   "id": "0bd46375",
   "metadata": {},
   "outputs": [],
   "source": [
    "#new_df['Deal Cost'] = scaler.fit_transform(new_df[['Deal Cost']])"
   ]
  },
  {
   "cell_type": "code",
   "execution_count": 41,
   "id": "38c4a8f1",
   "metadata": {},
   "outputs": [],
   "source": [
    "#new_df.head()"
   ]
  },
  {
   "cell_type": "markdown",
   "id": "cdd31716",
   "metadata": {},
   "source": [
    "## Model Building"
   ]
  },
  {
   "cell_type": "code",
   "execution_count": 42,
   "id": "5242bae7",
   "metadata": {},
   "outputs": [],
   "source": [
    "# Splitting the data into X and Y\n",
    "\n",
    "x = new_df.drop(['Deal result'], axis = 1)\n",
    "y = new_df['Deal result']"
   ]
  },
  {
   "cell_type": "code",
   "execution_count": 43,
   "id": "04b2e0fa",
   "metadata": {},
   "outputs": [],
   "source": [
    "#Adding 1 column is x as Actual (It will be used to calculate Total loss Faced by company for every false prediction)\n",
    "\n",
    "x['Actual'] = new_df['Deal result']"
   ]
  },
  {
   "cell_type": "code",
   "execution_count": 44,
   "id": "d9dca92a",
   "metadata": {},
   "outputs": [],
   "source": [
    "from sklearn.model_selection import train_test_split\n",
    "x_train, x_test, y_train, y_test = train_test_split(x, y, test_size=0.3, random_state=21)"
   ]
  },
  {
   "cell_type": "code",
   "execution_count": 45,
   "id": "b383e6d6",
   "metadata": {},
   "outputs": [
    {
     "data": {
      "text/html": [
       "<div>\n",
       "<style scoped>\n",
       "    .dataframe tbody tr th:only-of-type {\n",
       "        vertical-align: middle;\n",
       "    }\n",
       "\n",
       "    .dataframe tbody tr th {\n",
       "        vertical-align: top;\n",
       "    }\n",
       "\n",
       "    .dataframe thead th {\n",
       "        text-align: right;\n",
       "    }\n",
       "</style>\n",
       "<table border=\"1\" class=\"dataframe\">\n",
       "  <thead>\n",
       "    <tr style=\"text-align: right;\">\n",
       "      <th></th>\n",
       "      <th>Deal Cost</th>\n",
       "      <th>Client Category_Automobiles</th>\n",
       "      <th>Client Category_Consulting</th>\n",
       "      <th>Client Category_Consumer Good</th>\n",
       "      <th>Client Category_Domestic Bank</th>\n",
       "      <th>Client Category_Domestic Private Bank</th>\n",
       "      <th>Client Category_Domestic Public Bank</th>\n",
       "      <th>Client Category_Electronics</th>\n",
       "      <th>Client Category_Energy</th>\n",
       "      <th>Client Category_Energy</th>\n",
       "      <th>...</th>\n",
       "      <th>Location_L2</th>\n",
       "      <th>Location_L3</th>\n",
       "      <th>Location_L4</th>\n",
       "      <th>Location_L5</th>\n",
       "      <th>Location_L6</th>\n",
       "      <th>Location_L7</th>\n",
       "      <th>Location_L8</th>\n",
       "      <th>Location_L9</th>\n",
       "      <th>Location_Others</th>\n",
       "      <th>Actual</th>\n",
       "    </tr>\n",
       "  </thead>\n",
       "  <tbody>\n",
       "    <tr>\n",
       "      <th>9781</th>\n",
       "      <td>2647058.82</td>\n",
       "      <td>0</td>\n",
       "      <td>0</td>\n",
       "      <td>0</td>\n",
       "      <td>0</td>\n",
       "      <td>0</td>\n",
       "      <td>0</td>\n",
       "      <td>0</td>\n",
       "      <td>1</td>\n",
       "      <td>0</td>\n",
       "      <td>...</td>\n",
       "      <td>0</td>\n",
       "      <td>0</td>\n",
       "      <td>0</td>\n",
       "      <td>1</td>\n",
       "      <td>0</td>\n",
       "      <td>0</td>\n",
       "      <td>0</td>\n",
       "      <td>0</td>\n",
       "      <td>0</td>\n",
       "      <td>0</td>\n",
       "    </tr>\n",
       "    <tr>\n",
       "      <th>1037</th>\n",
       "      <td>165294.12</td>\n",
       "      <td>0</td>\n",
       "      <td>0</td>\n",
       "      <td>0</td>\n",
       "      <td>0</td>\n",
       "      <td>0</td>\n",
       "      <td>0</td>\n",
       "      <td>0</td>\n",
       "      <td>0</td>\n",
       "      <td>0</td>\n",
       "      <td>...</td>\n",
       "      <td>0</td>\n",
       "      <td>1</td>\n",
       "      <td>0</td>\n",
       "      <td>0</td>\n",
       "      <td>0</td>\n",
       "      <td>0</td>\n",
       "      <td>0</td>\n",
       "      <td>0</td>\n",
       "      <td>0</td>\n",
       "      <td>1</td>\n",
       "    </tr>\n",
       "    <tr>\n",
       "      <th>6670</th>\n",
       "      <td>1764705.88</td>\n",
       "      <td>0</td>\n",
       "      <td>0</td>\n",
       "      <td>0</td>\n",
       "      <td>0</td>\n",
       "      <td>0</td>\n",
       "      <td>0</td>\n",
       "      <td>0</td>\n",
       "      <td>0</td>\n",
       "      <td>0</td>\n",
       "      <td>...</td>\n",
       "      <td>0</td>\n",
       "      <td>0</td>\n",
       "      <td>0</td>\n",
       "      <td>1</td>\n",
       "      <td>0</td>\n",
       "      <td>0</td>\n",
       "      <td>0</td>\n",
       "      <td>0</td>\n",
       "      <td>0</td>\n",
       "      <td>0</td>\n",
       "    </tr>\n",
       "    <tr>\n",
       "      <th>169</th>\n",
       "      <td>294117.65</td>\n",
       "      <td>0</td>\n",
       "      <td>0</td>\n",
       "      <td>0</td>\n",
       "      <td>0</td>\n",
       "      <td>1</td>\n",
       "      <td>0</td>\n",
       "      <td>0</td>\n",
       "      <td>0</td>\n",
       "      <td>0</td>\n",
       "      <td>...</td>\n",
       "      <td>0</td>\n",
       "      <td>0</td>\n",
       "      <td>0</td>\n",
       "      <td>0</td>\n",
       "      <td>0</td>\n",
       "      <td>0</td>\n",
       "      <td>0</td>\n",
       "      <td>0</td>\n",
       "      <td>0</td>\n",
       "      <td>0</td>\n",
       "    </tr>\n",
       "    <tr>\n",
       "      <th>8100</th>\n",
       "      <td>441176.47</td>\n",
       "      <td>0</td>\n",
       "      <td>0</td>\n",
       "      <td>0</td>\n",
       "      <td>0</td>\n",
       "      <td>0</td>\n",
       "      <td>0</td>\n",
       "      <td>0</td>\n",
       "      <td>0</td>\n",
       "      <td>0</td>\n",
       "      <td>...</td>\n",
       "      <td>0</td>\n",
       "      <td>0</td>\n",
       "      <td>0</td>\n",
       "      <td>0</td>\n",
       "      <td>0</td>\n",
       "      <td>0</td>\n",
       "      <td>0</td>\n",
       "      <td>0</td>\n",
       "      <td>0</td>\n",
       "      <td>0</td>\n",
       "    </tr>\n",
       "    <tr>\n",
       "      <th>...</th>\n",
       "      <td>...</td>\n",
       "      <td>...</td>\n",
       "      <td>...</td>\n",
       "      <td>...</td>\n",
       "      <td>...</td>\n",
       "      <td>...</td>\n",
       "      <td>...</td>\n",
       "      <td>...</td>\n",
       "      <td>...</td>\n",
       "      <td>...</td>\n",
       "      <td>...</td>\n",
       "      <td>...</td>\n",
       "      <td>...</td>\n",
       "      <td>...</td>\n",
       "      <td>...</td>\n",
       "      <td>...</td>\n",
       "      <td>...</td>\n",
       "      <td>...</td>\n",
       "      <td>...</td>\n",
       "      <td>...</td>\n",
       "      <td>...</td>\n",
       "    </tr>\n",
       "    <tr>\n",
       "      <th>9410</th>\n",
       "      <td>455882.35</td>\n",
       "      <td>0</td>\n",
       "      <td>0</td>\n",
       "      <td>0</td>\n",
       "      <td>0</td>\n",
       "      <td>0</td>\n",
       "      <td>0</td>\n",
       "      <td>0</td>\n",
       "      <td>0</td>\n",
       "      <td>0</td>\n",
       "      <td>...</td>\n",
       "      <td>0</td>\n",
       "      <td>0</td>\n",
       "      <td>0</td>\n",
       "      <td>0</td>\n",
       "      <td>0</td>\n",
       "      <td>0</td>\n",
       "      <td>0</td>\n",
       "      <td>0</td>\n",
       "      <td>0</td>\n",
       "      <td>0</td>\n",
       "    </tr>\n",
       "    <tr>\n",
       "      <th>48</th>\n",
       "      <td>188235.29</td>\n",
       "      <td>0</td>\n",
       "      <td>0</td>\n",
       "      <td>0</td>\n",
       "      <td>0</td>\n",
       "      <td>0</td>\n",
       "      <td>0</td>\n",
       "      <td>0</td>\n",
       "      <td>0</td>\n",
       "      <td>0</td>\n",
       "      <td>...</td>\n",
       "      <td>0</td>\n",
       "      <td>0</td>\n",
       "      <td>1</td>\n",
       "      <td>0</td>\n",
       "      <td>0</td>\n",
       "      <td>0</td>\n",
       "      <td>0</td>\n",
       "      <td>0</td>\n",
       "      <td>0</td>\n",
       "      <td>0</td>\n",
       "    </tr>\n",
       "    <tr>\n",
       "      <th>9033</th>\n",
       "      <td>588235.29</td>\n",
       "      <td>0</td>\n",
       "      <td>0</td>\n",
       "      <td>0</td>\n",
       "      <td>0</td>\n",
       "      <td>0</td>\n",
       "      <td>0</td>\n",
       "      <td>0</td>\n",
       "      <td>0</td>\n",
       "      <td>0</td>\n",
       "      <td>...</td>\n",
       "      <td>0</td>\n",
       "      <td>0</td>\n",
       "      <td>0</td>\n",
       "      <td>0</td>\n",
       "      <td>1</td>\n",
       "      <td>0</td>\n",
       "      <td>0</td>\n",
       "      <td>0</td>\n",
       "      <td>0</td>\n",
       "      <td>0</td>\n",
       "    </tr>\n",
       "    <tr>\n",
       "      <th>5988</th>\n",
       "      <td>198529.41</td>\n",
       "      <td>0</td>\n",
       "      <td>0</td>\n",
       "      <td>0</td>\n",
       "      <td>0</td>\n",
       "      <td>0</td>\n",
       "      <td>0</td>\n",
       "      <td>0</td>\n",
       "      <td>0</td>\n",
       "      <td>0</td>\n",
       "      <td>...</td>\n",
       "      <td>0</td>\n",
       "      <td>0</td>\n",
       "      <td>0</td>\n",
       "      <td>1</td>\n",
       "      <td>0</td>\n",
       "      <td>0</td>\n",
       "      <td>0</td>\n",
       "      <td>0</td>\n",
       "      <td>0</td>\n",
       "      <td>1</td>\n",
       "    </tr>\n",
       "    <tr>\n",
       "      <th>5371</th>\n",
       "      <td>514705.88</td>\n",
       "      <td>0</td>\n",
       "      <td>0</td>\n",
       "      <td>0</td>\n",
       "      <td>0</td>\n",
       "      <td>0</td>\n",
       "      <td>0</td>\n",
       "      <td>0</td>\n",
       "      <td>0</td>\n",
       "      <td>0</td>\n",
       "      <td>...</td>\n",
       "      <td>0</td>\n",
       "      <td>0</td>\n",
       "      <td>0</td>\n",
       "      <td>1</td>\n",
       "      <td>0</td>\n",
       "      <td>0</td>\n",
       "      <td>0</td>\n",
       "      <td>0</td>\n",
       "      <td>0</td>\n",
       "      <td>1</td>\n",
       "    </tr>\n",
       "  </tbody>\n",
       "</table>\n",
       "<p>6987 rows × 120 columns</p>\n",
       "</div>"
      ],
      "text/plain": [
       "       Deal Cost  Client Category_Automobiles  Client Category_Consulting  \\\n",
       "9781  2647058.82                            0                           0   \n",
       "1037   165294.12                            0                           0   \n",
       "6670  1764705.88                            0                           0   \n",
       "169    294117.65                            0                           0   \n",
       "8100   441176.47                            0                           0   \n",
       "...          ...                          ...                         ...   \n",
       "9410   455882.35                            0                           0   \n",
       "48     188235.29                            0                           0   \n",
       "9033   588235.29                            0                           0   \n",
       "5988   198529.41                            0                           0   \n",
       "5371   514705.88                            0                           0   \n",
       "\n",
       "      Client Category_Consumer Good  Client Category_Domestic Bank  \\\n",
       "9781                              0                              0   \n",
       "1037                              0                              0   \n",
       "6670                              0                              0   \n",
       "169                               0                              0   \n",
       "8100                              0                              0   \n",
       "...                             ...                            ...   \n",
       "9410                              0                              0   \n",
       "48                                0                              0   \n",
       "9033                              0                              0   \n",
       "5988                              0                              0   \n",
       "5371                              0                              0   \n",
       "\n",
       "      Client Category_Domestic Private Bank  \\\n",
       "9781                                      0   \n",
       "1037                                      0   \n",
       "6670                                      0   \n",
       "169                                       1   \n",
       "8100                                      0   \n",
       "...                                     ...   \n",
       "9410                                      0   \n",
       "48                                        0   \n",
       "9033                                      0   \n",
       "5988                                      0   \n",
       "5371                                      0   \n",
       "\n",
       "      Client Category_Domestic Public Bank  Client Category_Electronics  \\\n",
       "9781                                     0                            0   \n",
       "1037                                     0                            0   \n",
       "6670                                     0                            0   \n",
       "169                                      0                            0   \n",
       "8100                                     0                            0   \n",
       "...                                    ...                          ...   \n",
       "9410                                     0                            0   \n",
       "48                                       0                            0   \n",
       "9033                                     0                            0   \n",
       "5988                                     0                            0   \n",
       "5371                                     0                            0   \n",
       "\n",
       "      Client Category_Energy  Client Category_Energy   ...  Location_L2  \\\n",
       "9781                       1                        0  ...            0   \n",
       "1037                       0                        0  ...            0   \n",
       "6670                       0                        0  ...            0   \n",
       "169                        0                        0  ...            0   \n",
       "8100                       0                        0  ...            0   \n",
       "...                      ...                      ...  ...          ...   \n",
       "9410                       0                        0  ...            0   \n",
       "48                         0                        0  ...            0   \n",
       "9033                       0                        0  ...            0   \n",
       "5988                       0                        0  ...            0   \n",
       "5371                       0                        0  ...            0   \n",
       "\n",
       "      Location_L3  Location_L4  Location_L5  Location_L6  Location_L7  \\\n",
       "9781            0            0            1            0            0   \n",
       "1037            1            0            0            0            0   \n",
       "6670            0            0            1            0            0   \n",
       "169             0            0            0            0            0   \n",
       "8100            0            0            0            0            0   \n",
       "...           ...          ...          ...          ...          ...   \n",
       "9410            0            0            0            0            0   \n",
       "48              0            1            0            0            0   \n",
       "9033            0            0            0            1            0   \n",
       "5988            0            0            1            0            0   \n",
       "5371            0            0            1            0            0   \n",
       "\n",
       "      Location_L8  Location_L9  Location_Others  Actual  \n",
       "9781            0            0                0       0  \n",
       "1037            0            0                0       1  \n",
       "6670            0            0                0       0  \n",
       "169             0            0                0       0  \n",
       "8100            0            0                0       0  \n",
       "...           ...          ...              ...     ...  \n",
       "9410            0            0                0       0  \n",
       "48              0            0                0       0  \n",
       "9033            0            0                0       0  \n",
       "5988            0            0                0       1  \n",
       "5371            0            0                0       1  \n",
       "\n",
       "[6987 rows x 120 columns]"
      ]
     },
     "execution_count": 45,
     "metadata": {},
     "output_type": "execute_result"
    }
   ],
   "source": [
    "x_train"
   ]
  },
  {
   "cell_type": "code",
   "execution_count": 46,
   "id": "806b40a6",
   "metadata": {},
   "outputs": [],
   "source": [
    "#creating new x_train and x_test dataframe as x_train_1 and x_test_1 and dropping 'Actual'\n",
    "\n",
    "x_train_1 = x_train.iloc[:,:119]\n",
    "x_test_1 = x_test.iloc[:,:119]"
   ]
  },
  {
   "cell_type": "code",
   "execution_count": 47,
   "id": "e5450147",
   "metadata": {},
   "outputs": [
    {
     "data": {
      "text/plain": [
       "0    0.627022\n",
       "1    0.372978\n",
       "Name: Deal result, dtype: float64"
      ]
     },
     "execution_count": 47,
     "metadata": {},
     "output_type": "execute_result"
    }
   ],
   "source": [
    "# distribution in training set\n",
    "y_train.value_counts(normalize=True)"
   ]
  },
  {
   "cell_type": "code",
   "execution_count": 48,
   "id": "57203a99",
   "metadata": {},
   "outputs": [
    {
     "data": {
      "text/plain": [
       "0    0.623372\n",
       "1    0.376628\n",
       "Name: Deal result, dtype: float64"
      ]
     },
     "execution_count": 48,
     "metadata": {},
     "output_type": "execute_result"
    }
   ],
   "source": [
    "# distribution in test set\n",
    "y_test.value_counts(normalize=True)"
   ]
  },
  {
   "cell_type": "code",
   "execution_count": 49,
   "id": "dc4714d8",
   "metadata": {},
   "outputs": [
    {
     "data": {
      "text/plain": [
       "((6987, 119), (6987,))"
      ]
     },
     "execution_count": 49,
     "metadata": {},
     "output_type": "execute_result"
    }
   ],
   "source": [
    "#shape of training set\n",
    "x_train_1.shape, y_train.shape"
   ]
  },
  {
   "cell_type": "code",
   "execution_count": 50,
   "id": "51263938",
   "metadata": {},
   "outputs": [
    {
     "data": {
      "text/plain": [
       "((2995, 119), (2995,))"
      ]
     },
     "execution_count": 50,
     "metadata": {},
     "output_type": "execute_result"
    }
   ],
   "source": [
    "#shape of test set\n",
    "x_test_1.shape, y_test.shape"
   ]
  },
  {
   "cell_type": "code",
   "execution_count": 51,
   "id": "fbc548b4",
   "metadata": {},
   "outputs": [
    {
     "data": {
      "text/html": [
       "<div>\n",
       "<style scoped>\n",
       "    .dataframe tbody tr th:only-of-type {\n",
       "        vertical-align: middle;\n",
       "    }\n",
       "\n",
       "    .dataframe tbody tr th {\n",
       "        vertical-align: top;\n",
       "    }\n",
       "\n",
       "    .dataframe thead th {\n",
       "        text-align: right;\n",
       "    }\n",
       "</style>\n",
       "<table border=\"1\" class=\"dataframe\">\n",
       "  <thead>\n",
       "    <tr style=\"text-align: right;\">\n",
       "      <th></th>\n",
       "      <th>Deal Cost</th>\n",
       "      <th>Client Category_Automobiles</th>\n",
       "      <th>Client Category_Consulting</th>\n",
       "      <th>Client Category_Consumer Good</th>\n",
       "      <th>Client Category_Domestic Bank</th>\n",
       "      <th>Client Category_Domestic Private Bank</th>\n",
       "      <th>Client Category_Domestic Public Bank</th>\n",
       "      <th>Client Category_Electronics</th>\n",
       "      <th>Client Category_Energy</th>\n",
       "      <th>Client Category_Energy</th>\n",
       "      <th>...</th>\n",
       "      <th>Location_L12</th>\n",
       "      <th>Location_L2</th>\n",
       "      <th>Location_L3</th>\n",
       "      <th>Location_L4</th>\n",
       "      <th>Location_L5</th>\n",
       "      <th>Location_L6</th>\n",
       "      <th>Location_L7</th>\n",
       "      <th>Location_L8</th>\n",
       "      <th>Location_L9</th>\n",
       "      <th>Location_Others</th>\n",
       "    </tr>\n",
       "  </thead>\n",
       "  <tbody>\n",
       "    <tr>\n",
       "      <th>9781</th>\n",
       "      <td>2647058.82</td>\n",
       "      <td>0</td>\n",
       "      <td>0</td>\n",
       "      <td>0</td>\n",
       "      <td>0</td>\n",
       "      <td>0</td>\n",
       "      <td>0</td>\n",
       "      <td>0</td>\n",
       "      <td>1</td>\n",
       "      <td>0</td>\n",
       "      <td>...</td>\n",
       "      <td>0</td>\n",
       "      <td>0</td>\n",
       "      <td>0</td>\n",
       "      <td>0</td>\n",
       "      <td>1</td>\n",
       "      <td>0</td>\n",
       "      <td>0</td>\n",
       "      <td>0</td>\n",
       "      <td>0</td>\n",
       "      <td>0</td>\n",
       "    </tr>\n",
       "    <tr>\n",
       "      <th>1037</th>\n",
       "      <td>165294.12</td>\n",
       "      <td>0</td>\n",
       "      <td>0</td>\n",
       "      <td>0</td>\n",
       "      <td>0</td>\n",
       "      <td>0</td>\n",
       "      <td>0</td>\n",
       "      <td>0</td>\n",
       "      <td>0</td>\n",
       "      <td>0</td>\n",
       "      <td>...</td>\n",
       "      <td>0</td>\n",
       "      <td>0</td>\n",
       "      <td>1</td>\n",
       "      <td>0</td>\n",
       "      <td>0</td>\n",
       "      <td>0</td>\n",
       "      <td>0</td>\n",
       "      <td>0</td>\n",
       "      <td>0</td>\n",
       "      <td>0</td>\n",
       "    </tr>\n",
       "    <tr>\n",
       "      <th>6670</th>\n",
       "      <td>1764705.88</td>\n",
       "      <td>0</td>\n",
       "      <td>0</td>\n",
       "      <td>0</td>\n",
       "      <td>0</td>\n",
       "      <td>0</td>\n",
       "      <td>0</td>\n",
       "      <td>0</td>\n",
       "      <td>0</td>\n",
       "      <td>0</td>\n",
       "      <td>...</td>\n",
       "      <td>0</td>\n",
       "      <td>0</td>\n",
       "      <td>0</td>\n",
       "      <td>0</td>\n",
       "      <td>1</td>\n",
       "      <td>0</td>\n",
       "      <td>0</td>\n",
       "      <td>0</td>\n",
       "      <td>0</td>\n",
       "      <td>0</td>\n",
       "    </tr>\n",
       "    <tr>\n",
       "      <th>169</th>\n",
       "      <td>294117.65</td>\n",
       "      <td>0</td>\n",
       "      <td>0</td>\n",
       "      <td>0</td>\n",
       "      <td>0</td>\n",
       "      <td>1</td>\n",
       "      <td>0</td>\n",
       "      <td>0</td>\n",
       "      <td>0</td>\n",
       "      <td>0</td>\n",
       "      <td>...</td>\n",
       "      <td>0</td>\n",
       "      <td>0</td>\n",
       "      <td>0</td>\n",
       "      <td>0</td>\n",
       "      <td>0</td>\n",
       "      <td>0</td>\n",
       "      <td>0</td>\n",
       "      <td>0</td>\n",
       "      <td>0</td>\n",
       "      <td>0</td>\n",
       "    </tr>\n",
       "    <tr>\n",
       "      <th>8100</th>\n",
       "      <td>441176.47</td>\n",
       "      <td>0</td>\n",
       "      <td>0</td>\n",
       "      <td>0</td>\n",
       "      <td>0</td>\n",
       "      <td>0</td>\n",
       "      <td>0</td>\n",
       "      <td>0</td>\n",
       "      <td>0</td>\n",
       "      <td>0</td>\n",
       "      <td>...</td>\n",
       "      <td>0</td>\n",
       "      <td>0</td>\n",
       "      <td>0</td>\n",
       "      <td>0</td>\n",
       "      <td>0</td>\n",
       "      <td>0</td>\n",
       "      <td>0</td>\n",
       "      <td>0</td>\n",
       "      <td>0</td>\n",
       "      <td>0</td>\n",
       "    </tr>\n",
       "    <tr>\n",
       "      <th>...</th>\n",
       "      <td>...</td>\n",
       "      <td>...</td>\n",
       "      <td>...</td>\n",
       "      <td>...</td>\n",
       "      <td>...</td>\n",
       "      <td>...</td>\n",
       "      <td>...</td>\n",
       "      <td>...</td>\n",
       "      <td>...</td>\n",
       "      <td>...</td>\n",
       "      <td>...</td>\n",
       "      <td>...</td>\n",
       "      <td>...</td>\n",
       "      <td>...</td>\n",
       "      <td>...</td>\n",
       "      <td>...</td>\n",
       "      <td>...</td>\n",
       "      <td>...</td>\n",
       "      <td>...</td>\n",
       "      <td>...</td>\n",
       "      <td>...</td>\n",
       "    </tr>\n",
       "    <tr>\n",
       "      <th>9410</th>\n",
       "      <td>455882.35</td>\n",
       "      <td>0</td>\n",
       "      <td>0</td>\n",
       "      <td>0</td>\n",
       "      <td>0</td>\n",
       "      <td>0</td>\n",
       "      <td>0</td>\n",
       "      <td>0</td>\n",
       "      <td>0</td>\n",
       "      <td>0</td>\n",
       "      <td>...</td>\n",
       "      <td>0</td>\n",
       "      <td>0</td>\n",
       "      <td>0</td>\n",
       "      <td>0</td>\n",
       "      <td>0</td>\n",
       "      <td>0</td>\n",
       "      <td>0</td>\n",
       "      <td>0</td>\n",
       "      <td>0</td>\n",
       "      <td>0</td>\n",
       "    </tr>\n",
       "    <tr>\n",
       "      <th>48</th>\n",
       "      <td>188235.29</td>\n",
       "      <td>0</td>\n",
       "      <td>0</td>\n",
       "      <td>0</td>\n",
       "      <td>0</td>\n",
       "      <td>0</td>\n",
       "      <td>0</td>\n",
       "      <td>0</td>\n",
       "      <td>0</td>\n",
       "      <td>0</td>\n",
       "      <td>...</td>\n",
       "      <td>0</td>\n",
       "      <td>0</td>\n",
       "      <td>0</td>\n",
       "      <td>1</td>\n",
       "      <td>0</td>\n",
       "      <td>0</td>\n",
       "      <td>0</td>\n",
       "      <td>0</td>\n",
       "      <td>0</td>\n",
       "      <td>0</td>\n",
       "    </tr>\n",
       "    <tr>\n",
       "      <th>9033</th>\n",
       "      <td>588235.29</td>\n",
       "      <td>0</td>\n",
       "      <td>0</td>\n",
       "      <td>0</td>\n",
       "      <td>0</td>\n",
       "      <td>0</td>\n",
       "      <td>0</td>\n",
       "      <td>0</td>\n",
       "      <td>0</td>\n",
       "      <td>0</td>\n",
       "      <td>...</td>\n",
       "      <td>0</td>\n",
       "      <td>0</td>\n",
       "      <td>0</td>\n",
       "      <td>0</td>\n",
       "      <td>0</td>\n",
       "      <td>1</td>\n",
       "      <td>0</td>\n",
       "      <td>0</td>\n",
       "      <td>0</td>\n",
       "      <td>0</td>\n",
       "    </tr>\n",
       "    <tr>\n",
       "      <th>5988</th>\n",
       "      <td>198529.41</td>\n",
       "      <td>0</td>\n",
       "      <td>0</td>\n",
       "      <td>0</td>\n",
       "      <td>0</td>\n",
       "      <td>0</td>\n",
       "      <td>0</td>\n",
       "      <td>0</td>\n",
       "      <td>0</td>\n",
       "      <td>0</td>\n",
       "      <td>...</td>\n",
       "      <td>0</td>\n",
       "      <td>0</td>\n",
       "      <td>0</td>\n",
       "      <td>0</td>\n",
       "      <td>1</td>\n",
       "      <td>0</td>\n",
       "      <td>0</td>\n",
       "      <td>0</td>\n",
       "      <td>0</td>\n",
       "      <td>0</td>\n",
       "    </tr>\n",
       "    <tr>\n",
       "      <th>5371</th>\n",
       "      <td>514705.88</td>\n",
       "      <td>0</td>\n",
       "      <td>0</td>\n",
       "      <td>0</td>\n",
       "      <td>0</td>\n",
       "      <td>0</td>\n",
       "      <td>0</td>\n",
       "      <td>0</td>\n",
       "      <td>0</td>\n",
       "      <td>0</td>\n",
       "      <td>...</td>\n",
       "      <td>0</td>\n",
       "      <td>0</td>\n",
       "      <td>0</td>\n",
       "      <td>0</td>\n",
       "      <td>1</td>\n",
       "      <td>0</td>\n",
       "      <td>0</td>\n",
       "      <td>0</td>\n",
       "      <td>0</td>\n",
       "      <td>0</td>\n",
       "    </tr>\n",
       "  </tbody>\n",
       "</table>\n",
       "<p>6987 rows × 119 columns</p>\n",
       "</div>"
      ],
      "text/plain": [
       "       Deal Cost  Client Category_Automobiles  Client Category_Consulting  \\\n",
       "9781  2647058.82                            0                           0   \n",
       "1037   165294.12                            0                           0   \n",
       "6670  1764705.88                            0                           0   \n",
       "169    294117.65                            0                           0   \n",
       "8100   441176.47                            0                           0   \n",
       "...          ...                          ...                         ...   \n",
       "9410   455882.35                            0                           0   \n",
       "48     188235.29                            0                           0   \n",
       "9033   588235.29                            0                           0   \n",
       "5988   198529.41                            0                           0   \n",
       "5371   514705.88                            0                           0   \n",
       "\n",
       "      Client Category_Consumer Good  Client Category_Domestic Bank  \\\n",
       "9781                              0                              0   \n",
       "1037                              0                              0   \n",
       "6670                              0                              0   \n",
       "169                               0                              0   \n",
       "8100                              0                              0   \n",
       "...                             ...                            ...   \n",
       "9410                              0                              0   \n",
       "48                                0                              0   \n",
       "9033                              0                              0   \n",
       "5988                              0                              0   \n",
       "5371                              0                              0   \n",
       "\n",
       "      Client Category_Domestic Private Bank  \\\n",
       "9781                                      0   \n",
       "1037                                      0   \n",
       "6670                                      0   \n",
       "169                                       1   \n",
       "8100                                      0   \n",
       "...                                     ...   \n",
       "9410                                      0   \n",
       "48                                        0   \n",
       "9033                                      0   \n",
       "5988                                      0   \n",
       "5371                                      0   \n",
       "\n",
       "      Client Category_Domestic Public Bank  Client Category_Electronics  \\\n",
       "9781                                     0                            0   \n",
       "1037                                     0                            0   \n",
       "6670                                     0                            0   \n",
       "169                                      0                            0   \n",
       "8100                                     0                            0   \n",
       "...                                    ...                          ...   \n",
       "9410                                     0                            0   \n",
       "48                                       0                            0   \n",
       "9033                                     0                            0   \n",
       "5988                                     0                            0   \n",
       "5371                                     0                            0   \n",
       "\n",
       "      Client Category_Energy  Client Category_Energy   ...  Location_L12  \\\n",
       "9781                       1                        0  ...             0   \n",
       "1037                       0                        0  ...             0   \n",
       "6670                       0                        0  ...             0   \n",
       "169                        0                        0  ...             0   \n",
       "8100                       0                        0  ...             0   \n",
       "...                      ...                      ...  ...           ...   \n",
       "9410                       0                        0  ...             0   \n",
       "48                         0                        0  ...             0   \n",
       "9033                       0                        0  ...             0   \n",
       "5988                       0                        0  ...             0   \n",
       "5371                       0                        0  ...             0   \n",
       "\n",
       "      Location_L2  Location_L3  Location_L4  Location_L5  Location_L6  \\\n",
       "9781            0            0            0            1            0   \n",
       "1037            0            1            0            0            0   \n",
       "6670            0            0            0            1            0   \n",
       "169             0            0            0            0            0   \n",
       "8100            0            0            0            0            0   \n",
       "...           ...          ...          ...          ...          ...   \n",
       "9410            0            0            0            0            0   \n",
       "48              0            0            1            0            0   \n",
       "9033            0            0            0            0            1   \n",
       "5988            0            0            0            1            0   \n",
       "5371            0            0            0            1            0   \n",
       "\n",
       "      Location_L7  Location_L8  Location_L9  Location_Others  \n",
       "9781            0            0            0                0  \n",
       "1037            0            0            0                0  \n",
       "6670            0            0            0                0  \n",
       "169             0            0            0                0  \n",
       "8100            0            0            0                0  \n",
       "...           ...          ...          ...              ...  \n",
       "9410            0            0            0                0  \n",
       "48              0            0            0                0  \n",
       "9033            0            0            0                0  \n",
       "5988            0            0            0                0  \n",
       "5371            0            0            0                0  \n",
       "\n",
       "[6987 rows x 119 columns]"
      ]
     },
     "execution_count": 51,
     "metadata": {},
     "output_type": "execute_result"
    }
   ],
   "source": [
    "x_train_1"
   ]
  },
  {
   "cell_type": "markdown",
   "id": "7fcfe853",
   "metadata": {},
   "source": [
    "### Attempt #1\n",
    "\n",
    "**Logistic Regression**"
   ]
  },
  {
   "cell_type": "code",
   "execution_count": 52,
   "id": "a793082c",
   "metadata": {},
   "outputs": [],
   "source": [
    "from sklearn.metrics import accuracy_score, confusion_matrix, classification_report"
   ]
  },
  {
   "cell_type": "code",
   "execution_count": 53,
   "id": "97abe005",
   "metadata": {},
   "outputs": [
    {
     "data": {
      "text/plain": [
       "LogisticRegression()"
      ]
     },
     "execution_count": 53,
     "metadata": {},
     "output_type": "execute_result"
    }
   ],
   "source": [
    "from sklearn.linear_model import LogisticRegression\n",
    "lr = LogisticRegression()\n",
    "lr.fit(x_train_1, y_train)"
   ]
  },
  {
   "cell_type": "code",
   "execution_count": 54,
   "id": "3a49b1b3",
   "metadata": {},
   "outputs": [
    {
     "data": {
      "text/plain": [
       "array([0, 0, 0, ..., 0, 0, 0], dtype=int64)"
      ]
     },
     "execution_count": 54,
     "metadata": {},
     "output_type": "execute_result"
    }
   ],
   "source": [
    "lr.predict(x_train_1)"
   ]
  },
  {
   "cell_type": "code",
   "execution_count": 55,
   "id": "3c075001",
   "metadata": {},
   "outputs": [
    {
     "name": "stdout",
     "output_type": "stream",
     "text": [
      "              precision    recall  f1-score   support\n",
      "\n",
      "           0       0.63      1.00      0.77      4381\n",
      "           1       0.00      0.00      0.00      2606\n",
      "\n",
      "    accuracy                           0.63      6987\n",
      "   macro avg       0.31      0.50      0.39      6987\n",
      "weighted avg       0.39      0.63      0.48      6987\n",
      "\n"
     ]
    },
    {
     "name": "stderr",
     "output_type": "stream",
     "text": [
      "C:\\Users\\Deepesh Asthana\\anaconda3\\lib\\site-packages\\sklearn\\metrics\\_classification.py:1245: UndefinedMetricWarning: Precision and F-score are ill-defined and being set to 0.0 in labels with no predicted samples. Use `zero_division` parameter to control this behavior.\n",
      "  _warn_prf(average, modifier, msg_start, len(result))\n",
      "C:\\Users\\Deepesh Asthana\\anaconda3\\lib\\site-packages\\sklearn\\metrics\\_classification.py:1245: UndefinedMetricWarning: Precision and F-score are ill-defined and being set to 0.0 in labels with no predicted samples. Use `zero_division` parameter to control this behavior.\n",
      "  _warn_prf(average, modifier, msg_start, len(result))\n",
      "C:\\Users\\Deepesh Asthana\\anaconda3\\lib\\site-packages\\sklearn\\metrics\\_classification.py:1245: UndefinedMetricWarning: Precision and F-score are ill-defined and being set to 0.0 in labels with no predicted samples. Use `zero_division` parameter to control this behavior.\n",
      "  _warn_prf(average, modifier, msg_start, len(result))\n"
     ]
    }
   ],
   "source": [
    "print(classification_report(y_train, lr.predict(x_train_1)))"
   ]
  },
  {
   "cell_type": "code",
   "execution_count": 56,
   "id": "d15f31d1",
   "metadata": {},
   "outputs": [
    {
     "data": {
      "text/plain": [
       "array([0, 0, 0, ..., 0, 0, 0], dtype=int64)"
      ]
     },
     "execution_count": 56,
     "metadata": {},
     "output_type": "execute_result"
    }
   ],
   "source": [
    "lr.predict(x_test_1)"
   ]
  },
  {
   "cell_type": "code",
   "execution_count": 57,
   "id": "3a7c6c51",
   "metadata": {},
   "outputs": [
    {
     "name": "stdout",
     "output_type": "stream",
     "text": [
      "              precision    recall  f1-score   support\n",
      "\n",
      "           0       0.62      1.00      0.77      1867\n",
      "           1       0.00      0.00      0.00      1128\n",
      "\n",
      "    accuracy                           0.62      2995\n",
      "   macro avg       0.31      0.50      0.38      2995\n",
      "weighted avg       0.39      0.62      0.48      2995\n",
      "\n"
     ]
    },
    {
     "name": "stderr",
     "output_type": "stream",
     "text": [
      "C:\\Users\\Deepesh Asthana\\anaconda3\\lib\\site-packages\\sklearn\\metrics\\_classification.py:1245: UndefinedMetricWarning: Precision and F-score are ill-defined and being set to 0.0 in labels with no predicted samples. Use `zero_division` parameter to control this behavior.\n",
      "  _warn_prf(average, modifier, msg_start, len(result))\n",
      "C:\\Users\\Deepesh Asthana\\anaconda3\\lib\\site-packages\\sklearn\\metrics\\_classification.py:1245: UndefinedMetricWarning: Precision and F-score are ill-defined and being set to 0.0 in labels with no predicted samples. Use `zero_division` parameter to control this behavior.\n",
      "  _warn_prf(average, modifier, msg_start, len(result))\n",
      "C:\\Users\\Deepesh Asthana\\anaconda3\\lib\\site-packages\\sklearn\\metrics\\_classification.py:1245: UndefinedMetricWarning: Precision and F-score are ill-defined and being set to 0.0 in labels with no predicted samples. Use `zero_division` parameter to control this behavior.\n",
      "  _warn_prf(average, modifier, msg_start, len(result))\n"
     ]
    }
   ],
   "source": [
    "print(classification_report(y_test, lr.predict(x_test_1)))"
   ]
  },
  {
   "cell_type": "markdown",
   "id": "9cbc0252",
   "metadata": {},
   "source": [
    "#### Logistic Regression is underfitted model giving good accuracy results. so we will not use it\n",
    "\n",
    "## Attempt #2\n",
    "\n",
    "**SGD**"
   ]
  },
  {
   "cell_type": "code",
   "execution_count": 58,
   "id": "d785819f",
   "metadata": {},
   "outputs": [
    {
     "data": {
      "text/plain": [
       "SGDClassifier(alpha=0.005)"
      ]
     },
     "execution_count": 58,
     "metadata": {},
     "output_type": "execute_result"
    }
   ],
   "source": [
    "from sklearn.linear_model import SGDClassifier\n",
    "sgd = SGDClassifier(alpha=0.005)\n",
    "sgd.fit(x_train_1,y_train)"
   ]
  },
  {
   "cell_type": "code",
   "execution_count": 59,
   "id": "e4924bee",
   "metadata": {},
   "outputs": [
    {
     "name": "stdout",
     "output_type": "stream",
     "text": [
      "              precision    recall  f1-score   support\n",
      "\n",
      "           0       0.63      1.00      0.77      4381\n",
      "           1       0.00      0.00      0.00      2606\n",
      "\n",
      "    accuracy                           0.63      6987\n",
      "   macro avg       0.31      0.50      0.39      6987\n",
      "weighted avg       0.39      0.63      0.48      6987\n",
      "\n"
     ]
    },
    {
     "name": "stderr",
     "output_type": "stream",
     "text": [
      "C:\\Users\\Deepesh Asthana\\anaconda3\\lib\\site-packages\\sklearn\\metrics\\_classification.py:1245: UndefinedMetricWarning: Precision and F-score are ill-defined and being set to 0.0 in labels with no predicted samples. Use `zero_division` parameter to control this behavior.\n",
      "  _warn_prf(average, modifier, msg_start, len(result))\n",
      "C:\\Users\\Deepesh Asthana\\anaconda3\\lib\\site-packages\\sklearn\\metrics\\_classification.py:1245: UndefinedMetricWarning: Precision and F-score are ill-defined and being set to 0.0 in labels with no predicted samples. Use `zero_division` parameter to control this behavior.\n",
      "  _warn_prf(average, modifier, msg_start, len(result))\n",
      "C:\\Users\\Deepesh Asthana\\anaconda3\\lib\\site-packages\\sklearn\\metrics\\_classification.py:1245: UndefinedMetricWarning: Precision and F-score are ill-defined and being set to 0.0 in labels with no predicted samples. Use `zero_division` parameter to control this behavior.\n",
      "  _warn_prf(average, modifier, msg_start, len(result))\n"
     ]
    }
   ],
   "source": [
    "sgd.predict(x_train_1)\n",
    "print(classification_report(y_train, lr.predict(x_train_1)))"
   ]
  },
  {
   "cell_type": "code",
   "execution_count": 60,
   "id": "902ca9fd",
   "metadata": {},
   "outputs": [
    {
     "name": "stdout",
     "output_type": "stream",
     "text": [
      "              precision    recall  f1-score   support\n",
      "\n",
      "           0       0.62      1.00      0.77      1867\n",
      "           1       0.00      0.00      0.00      1128\n",
      "\n",
      "    accuracy                           0.62      2995\n",
      "   macro avg       0.31      0.50      0.38      2995\n",
      "weighted avg       0.39      0.62      0.48      2995\n",
      "\n"
     ]
    },
    {
     "name": "stderr",
     "output_type": "stream",
     "text": [
      "C:\\Users\\Deepesh Asthana\\anaconda3\\lib\\site-packages\\sklearn\\metrics\\_classification.py:1245: UndefinedMetricWarning: Precision and F-score are ill-defined and being set to 0.0 in labels with no predicted samples. Use `zero_division` parameter to control this behavior.\n",
      "  _warn_prf(average, modifier, msg_start, len(result))\n",
      "C:\\Users\\Deepesh Asthana\\anaconda3\\lib\\site-packages\\sklearn\\metrics\\_classification.py:1245: UndefinedMetricWarning: Precision and F-score are ill-defined and being set to 0.0 in labels with no predicted samples. Use `zero_division` parameter to control this behavior.\n",
      "  _warn_prf(average, modifier, msg_start, len(result))\n",
      "C:\\Users\\Deepesh Asthana\\anaconda3\\lib\\site-packages\\sklearn\\metrics\\_classification.py:1245: UndefinedMetricWarning: Precision and F-score are ill-defined and being set to 0.0 in labels with no predicted samples. Use `zero_division` parameter to control this behavior.\n",
      "  _warn_prf(average, modifier, msg_start, len(result))\n"
     ]
    }
   ],
   "source": [
    "sgd.predict(x_test_1)\n",
    "print(classification_report(y_test, lr.predict(x_test_1)))"
   ]
  },
  {
   "cell_type": "markdown",
   "id": "30f00cba",
   "metadata": {},
   "source": [
    "#### This model is also underfitted.\n",
    "\n",
    "## Attempt #3\n",
    "\n",
    "**Decision Trees**"
   ]
  },
  {
   "cell_type": "code",
   "execution_count": 61,
   "id": "0368426a",
   "metadata": {},
   "outputs": [],
   "source": [
    "#importing decision tree classifier \n",
    "from sklearn.tree import DecisionTreeClassifier\n",
    "\n",
    "#creating the decision tree function\n",
    "dt_model = DecisionTreeClassifier(random_state=10)"
   ]
  },
  {
   "cell_type": "code",
   "execution_count": 62,
   "id": "3ddef754",
   "metadata": {},
   "outputs": [
    {
     "data": {
      "text/plain": [
       "DecisionTreeClassifier(random_state=10)"
      ]
     },
     "execution_count": 62,
     "metadata": {},
     "output_type": "execute_result"
    }
   ],
   "source": [
    "#fitting the model\n",
    "dt_model.fit(x_train_1, y_train)"
   ]
  },
  {
   "cell_type": "code",
   "execution_count": 63,
   "id": "ef8b9604",
   "metadata": {},
   "outputs": [
    {
     "name": "stdout",
     "output_type": "stream",
     "text": [
      "Score on Train Data:  0.9855445827966223\n",
      "Score on Test Data:  0.7772954924874791\n"
     ]
    }
   ],
   "source": [
    "#checking the training score\n",
    "print('Score on Train Data: ',dt_model.score(x_train_1, y_train))\n",
    "\n",
    "print('Score on Test Data: ', dt_model.score(x_test_1, y_test))"
   ]
  },
  {
   "cell_type": "code",
   "execution_count": 64,
   "id": "74fa762e",
   "metadata": {},
   "outputs": [],
   "source": [
    "y_pred = dt_model.predict(x_test_1)"
   ]
  },
  {
   "cell_type": "code",
   "execution_count": 65,
   "id": "b4bc6e1e",
   "metadata": {},
   "outputs": [
    {
     "data": {
      "text/plain": [
       "0    2118\n",
       "1     877\n",
       "dtype: int64"
      ]
     },
     "execution_count": 65,
     "metadata": {},
     "output_type": "execute_result"
    }
   ],
   "source": [
    "y_pred_1 = pd.DataFrame(y_pred)\n",
    "y_pred_1.value_counts()"
   ]
  },
  {
   "cell_type": "code",
   "execution_count": 66,
   "id": "3a40aa60",
   "metadata": {},
   "outputs": [
    {
     "name": "stdout",
     "output_type": "stream",
     "text": [
      "[[1659  208]\n",
      " [ 459  669]]\n",
      "0.7772954924874791\n",
      "              precision    recall  f1-score   support\n",
      "\n",
      "           0       0.78      0.89      0.83      1867\n",
      "           1       0.76      0.59      0.67      1128\n",
      "\n",
      "    accuracy                           0.78      2995\n",
      "   macro avg       0.77      0.74      0.75      2995\n",
      "weighted avg       0.78      0.78      0.77      2995\n",
      "\n"
     ]
    }
   ],
   "source": [
    "from sklearn.metrics import accuracy_score, confusion_matrix, classification_report\n",
    "print(confusion_matrix(y_test,y_pred))\n",
    "print(accuracy_score(y_test,y_pred))\n",
    "print(classification_report(y_test,y_pred))"
   ]
  },
  {
   "cell_type": "markdown",
   "id": "240d85f2",
   "metadata": {},
   "source": [
    "**Decision Trees is giving quite good results but we will try Hyperparameter Tuining to improve results**"
   ]
  },
  {
   "cell_type": "markdown",
   "id": "7a303347",
   "metadata": {},
   "source": [
    "### Hyperparameter Tuning"
   ]
  },
  {
   "cell_type": "markdown",
   "id": "28fde238",
   "metadata": {},
   "source": [
    "##### Randomized Search Cv"
   ]
  },
  {
   "cell_type": "code",
   "execution_count": 67,
   "id": "bff8b961",
   "metadata": {},
   "outputs": [
    {
     "name": "stdout",
     "output_type": "stream",
     "text": [
      "{'criterion': ['gini', 'entropy'], 'splitter': ['best', 'random'], 'max_depth': [10, 20, 30, 40, 50, 60, 70, 80, 90, 100], 'min_samples_split': [2, 5, 8, 10, 14], 'min_samples_leaf': [1, 2, 4, 6, 8], 'max_features': ['auto', 'sqrt', 'log2']}\n"
     ]
    }
   ],
   "source": [
    "from sklearn.model_selection import RandomizedSearchCV\n",
    "\n",
    "criterian = ['gini', 'entropy']\n",
    "splitter = [\"best\", \"random\"]\n",
    "max_depth = [int(x) for x in np.linspace(start = 10, stop = 100, num = 10)]\n",
    "min_samples_split = [2,5,8,10,14]\n",
    "min_samples_leaf = [1, 2, 4,6,8]\n",
    "max_features = [\"auto\", \"sqrt\", \"log2\"]\n",
    "\n",
    "# Create the Decision tree grid\n",
    "Decision_grid = {'criterion': criterian,\n",
    "                'splitter': splitter,\n",
    "                'max_depth': max_depth,\n",
    "                'min_samples_split': min_samples_split,\n",
    "                'min_samples_leaf': min_samples_leaf,\n",
    "                'max_features': max_features}\n",
    "print(Decision_grid)"
   ]
  },
  {
   "cell_type": "code",
   "execution_count": 68,
   "id": "02d89942",
   "metadata": {},
   "outputs": [
    {
     "name": "stdout",
     "output_type": "stream",
     "text": [
      "Fitting 3 folds for each of 100 candidates, totalling 300 fits\n"
     ]
    },
    {
     "data": {
      "text/plain": [
       "RandomizedSearchCV(cv=3, estimator=DecisionTreeClassifier(random_state=10),\n",
       "                   n_iter=100, n_jobs=-1,\n",
       "                   param_distributions={'criterion': ['gini', 'entropy'],\n",
       "                                        'max_depth': [10, 20, 30, 40, 50, 60,\n",
       "                                                      70, 80, 90, 100],\n",
       "                                        'max_features': ['auto', 'sqrt',\n",
       "                                                         'log2'],\n",
       "                                        'min_samples_leaf': [1, 2, 4, 6, 8],\n",
       "                                        'min_samples_split': [2, 5, 8, 10, 14],\n",
       "                                        'splitter': ['best', 'random']},\n",
       "                   random_state=100, verbose=2)"
      ]
     },
     "execution_count": 68,
     "metadata": {},
     "output_type": "execute_result"
    }
   ],
   "source": [
    "dt_randomcv = RandomizedSearchCV(estimator= dt_model, param_distributions= Decision_grid,n_iter=100,cv=3,verbose=2,\n",
    "                               random_state=100,n_jobs=-1)\n",
    "\n",
    "### fit the randomized model\n",
    "dt_randomcv.fit(x_train_1, y_train)"
   ]
  },
  {
   "cell_type": "code",
   "execution_count": 69,
   "id": "6ff23f05",
   "metadata": {},
   "outputs": [
    {
     "data": {
      "text/plain": [
       "DecisionTreeClassifier(criterion='entropy', max_depth=80, max_features='sqrt',\n",
       "                       random_state=10)"
      ]
     },
     "execution_count": 69,
     "metadata": {},
     "output_type": "execute_result"
    }
   ],
   "source": [
    "dt_randomcv.best_estimator_"
   ]
  },
  {
   "cell_type": "code",
   "execution_count": 70,
   "id": "9fb304ba",
   "metadata": {},
   "outputs": [],
   "source": [
    "best_dt_grid = dt_randomcv.best_estimator_"
   ]
  },
  {
   "cell_type": "code",
   "execution_count": 71,
   "id": "baf0e550",
   "metadata": {},
   "outputs": [],
   "source": [
    "y_pred_dt = best_dt_grid.predict(x_test_1)"
   ]
  },
  {
   "cell_type": "code",
   "execution_count": 72,
   "id": "2a21fd9d",
   "metadata": {},
   "outputs": [
    {
     "name": "stdout",
     "output_type": "stream",
     "text": [
      "[[1673  194]\n",
      " [ 478  650]]\n",
      "Accuracy Score 0.7756260434056761\n",
      "Classification report:               precision    recall  f1-score   support\n",
      "\n",
      "           0       0.78      0.90      0.83      1867\n",
      "           1       0.77      0.58      0.66      1128\n",
      "\n",
      "    accuracy                           0.78      2995\n",
      "   macro avg       0.77      0.74      0.75      2995\n",
      "weighted avg       0.77      0.78      0.77      2995\n",
      "\n"
     ]
    }
   ],
   "source": [
    "print(confusion_matrix(y_test,y_pred_dt))\n",
    "print(\"Accuracy Score {}\".format(accuracy_score(y_test,y_pred_dt)))\n",
    "print(\"Classification report: {}\".format(classification_report(y_test,y_pred_dt)))"
   ]
  },
  {
   "cell_type": "markdown",
   "id": "05fabf47",
   "metadata": {},
   "source": [
    "We will try Random Forest Algothrim"
   ]
  },
  {
   "cell_type": "markdown",
   "id": "57f6bd68",
   "metadata": {},
   "source": [
    "## Attempt #4\n",
    "\n",
    "**Random forest**"
   ]
  },
  {
   "cell_type": "code",
   "execution_count": 73,
   "id": "b7312fb2",
   "metadata": {},
   "outputs": [],
   "source": [
    "from sklearn.ensemble import RandomForestClassifier\n",
    "rf_classifier=RandomForestClassifier(n_estimators=10).fit(x_train_1,y_train)\n",
    "prediction=rf_classifier.predict(x_test_1)"
   ]
  },
  {
   "cell_type": "code",
   "execution_count": 74,
   "id": "254287cd",
   "metadata": {},
   "outputs": [
    {
     "data": {
      "text/plain": [
       "0.9630742808072134"
      ]
     },
     "execution_count": 74,
     "metadata": {},
     "output_type": "execute_result"
    }
   ],
   "source": [
    "#Checking on training dataset\n",
    "rf_classifier.score(x_train_1, y_train)"
   ]
  },
  {
   "cell_type": "markdown",
   "id": "2bd9a6b9",
   "metadata": {},
   "source": [
    "The model is performing very good in training dataset. Let's Check on test data"
   ]
  },
  {
   "cell_type": "code",
   "execution_count": 75,
   "id": "5c2f1e9f",
   "metadata": {},
   "outputs": [
    {
     "name": "stdout",
     "output_type": "stream",
     "text": [
      "[[1653  214]\n",
      " [ 535  593]]\n",
      "0.7499165275459099\n",
      "              precision    recall  f1-score   support\n",
      "\n",
      "           0       0.76      0.89      0.82      1867\n",
      "           1       0.73      0.53      0.61      1128\n",
      "\n",
      "    accuracy                           0.75      2995\n",
      "   macro avg       0.75      0.71      0.71      2995\n",
      "weighted avg       0.75      0.75      0.74      2995\n",
      "\n"
     ]
    }
   ],
   "source": [
    "print(confusion_matrix(y_test,prediction))\n",
    "print(accuracy_score(y_test,prediction))\n",
    "print(classification_report(y_test,prediction))"
   ]
  },
  {
   "cell_type": "code",
   "execution_count": 76,
   "id": "5f4eced7",
   "metadata": {},
   "outputs": [],
   "source": [
    "# Manual Hyper parameter tuning\n",
    "\n",
    "rf_model = RandomForestClassifier(n_estimators = 5, criterion='entropy', max_features= 'sqrt')"
   ]
  },
  {
   "cell_type": "code",
   "execution_count": 77,
   "id": "e73ccc09",
   "metadata": {},
   "outputs": [
    {
     "data": {
      "text/plain": [
       "RandomForestClassifier(criterion='entropy', max_features='sqrt', n_estimators=5)"
      ]
     },
     "execution_count": 77,
     "metadata": {},
     "output_type": "execute_result"
    }
   ],
   "source": [
    "rf_model.fit(x_train_1, y_train)"
   ]
  },
  {
   "cell_type": "code",
   "execution_count": 78,
   "id": "ffced5dd",
   "metadata": {},
   "outputs": [
    {
     "data": {
      "text/plain": [
       "0.9511950765707743"
      ]
     },
     "execution_count": 78,
     "metadata": {},
     "output_type": "execute_result"
    }
   ],
   "source": [
    "rf_model.score(x_train_1, y_train)"
   ]
  },
  {
   "cell_type": "code",
   "execution_count": 79,
   "id": "5b4cbe08",
   "metadata": {},
   "outputs": [],
   "source": [
    "pred = rf_model.predict(x_test_1)"
   ]
  },
  {
   "cell_type": "code",
   "execution_count": 80,
   "id": "72cef901",
   "metadata": {},
   "outputs": [
    {
     "name": "stdout",
     "output_type": "stream",
     "text": [
      "[[1592  275]\n",
      " [ 503  625]]\n",
      "0.7402337228714524\n",
      "              precision    recall  f1-score   support\n",
      "\n",
      "           0       0.76      0.85      0.80      1867\n",
      "           1       0.69      0.55      0.62      1128\n",
      "\n",
      "    accuracy                           0.74      2995\n",
      "   macro avg       0.73      0.70      0.71      2995\n",
      "weighted avg       0.74      0.74      0.73      2995\n",
      "\n"
     ]
    }
   ],
   "source": [
    "print(confusion_matrix(y_test,pred))\n",
    "print(accuracy_score(y_test,pred))\n",
    "print(classification_report(y_test,pred))"
   ]
  },
  {
   "cell_type": "markdown",
   "id": "d7c00162",
   "metadata": {},
   "source": [
    "Accuracy decresed after Manual parameter Tuning. We will Try after Hyperparameters Tuning Randomised Search CV"
   ]
  },
  {
   "cell_type": "markdown",
   "id": "7e69fcff",
   "metadata": {},
   "source": [
    "### Randomized Search Cv"
   ]
  },
  {
   "cell_type": "code",
   "execution_count": 81,
   "id": "b5dee7b8",
   "metadata": {},
   "outputs": [
    {
     "name": "stdout",
     "output_type": "stream",
     "text": [
      "{'n_estimators': [10, 31, 52, 73, 94, 115, 136, 157, 178, 200], 'max_features': ['auto', 'sqrt', 'log2'], 'max_depth': [10, 20, 30, 40, 50, 60, 70, 80, 90, 100], 'min_samples_split': [1, 2, 5, 10, 14], 'min_samples_leaf': [1, 2, 4, 6, 8], 'criterion': ['entropy', 'gini']}\n"
     ]
    }
   ],
   "source": [
    "from sklearn.model_selection import RandomizedSearchCV\n",
    "n_estimators = [int(x) for x in np.linspace(start = 10, stop = 200, num = 10)]\n",
    "max_features = ['auto', 'sqrt','log2']\n",
    "max_depth = [int(x) for x in np.linspace(10, 100,10)]\n",
    "min_samples_split = [1,2, 5, 10,14]\n",
    "min_samples_leaf = [1, 2, 4,6,8]\n",
    "random_grid = {'n_estimators': n_estimators,\n",
    "               'max_features': max_features,\n",
    "               'max_depth': max_depth,\n",
    "               'min_samples_split': min_samples_split,\n",
    "               'min_samples_leaf': min_samples_leaf,\n",
    "              'criterion':['entropy','gini']}\n",
    "print(random_grid)"
   ]
  },
  {
   "cell_type": "code",
   "execution_count": 82,
   "id": "068ad1c3",
   "metadata": {},
   "outputs": [
    {
     "name": "stdout",
     "output_type": "stream",
     "text": [
      "Fitting 3 folds for each of 100 candidates, totalling 300 fits\n"
     ]
    },
    {
     "name": "stderr",
     "output_type": "stream",
     "text": [
      "C:\\Users\\Deepesh Asthana\\anaconda3\\lib\\site-packages\\sklearn\\model_selection\\_search.py:918: UserWarning: One or more of the test scores are non-finite: [0.68656076 0.69171318 0.6855589  0.65922427 0.69314441 0.67554029\n",
      " 0.67010162        nan 0.71819093 0.704308   0.69543438 0.6855589\n",
      "        nan 0.69500501        nan 0.71189352 0.68613139 0.68226707\n",
      " 0.6955775  0.68384142 0.70030056 0.67868899 0.66652354        nan\n",
      " 0.66409045 0.73221697 0.68398454 0.69099757 0.71318162        nan\n",
      " 0.66695291        nan 0.68741949 0.686847          nan 0.6918563\n",
      "        nan 0.68656076 0.70201803 0.68856448 0.68140833 0.68326893\n",
      " 0.69457564 0.69085444 0.66738228        nan 0.69772435 0.73007013\n",
      "        nan        nan        nan        nan 0.6849864  0.68512953\n",
      " 0.72405897 0.68241019        nan        nan 0.69357378 0.70359239\n",
      "        nan 0.68713325 0.68956634 0.66366108 0.70845857 0.68956634\n",
      "        nan 0.67396594 0.68040647 0.66666667 0.70573923 0.70573923\n",
      " 0.71604408 0.68913697 0.68384142 0.69457564 0.67081723 0.67582653\n",
      "        nan 0.68985258 0.68727637 0.66595105 0.69085444 0.69657936\n",
      " 0.70845857 0.68999571        nan        nan 0.72191212        nan\n",
      " 0.69085444 0.68813511 0.6918563  0.68827823 0.69171318 0.72506083\n",
      " 0.72964076 0.70030056 0.68527265 0.67153285]\n",
      "  warnings.warn(\n"
     ]
    },
    {
     "data": {
      "text/plain": [
       "RandomizedSearchCV(cv=3, estimator=RandomForestClassifier(), n_iter=100,\n",
       "                   n_jobs=-1,\n",
       "                   param_distributions={'criterion': ['entropy', 'gini'],\n",
       "                                        'max_depth': [10, 20, 30, 40, 50, 60,\n",
       "                                                      70, 80, 90, 100],\n",
       "                                        'max_features': ['auto', 'sqrt',\n",
       "                                                         'log2'],\n",
       "                                        'min_samples_leaf': [1, 2, 4, 6, 8],\n",
       "                                        'min_samples_split': [1, 2, 5, 10, 14],\n",
       "                                        'n_estimators': [10, 31, 52, 73, 94,\n",
       "                                                         115, 136, 157, 178,\n",
       "                                                         200]},\n",
       "                   random_state=100, verbose=2)"
      ]
     },
     "execution_count": 82,
     "metadata": {},
     "output_type": "execute_result"
    }
   ],
   "source": [
    "rf=RandomForestClassifier()\n",
    "rf_randomcv=RandomizedSearchCV(estimator=rf,param_distributions=random_grid,n_iter=100,cv=3,verbose=2,\n",
    "                               random_state=100,n_jobs=-1)\n",
    "### fit the randomized model\n",
    "rf_randomcv.fit(x_train_1,y_train)"
   ]
  },
  {
   "cell_type": "code",
   "execution_count": 83,
   "id": "7ea0b6d4",
   "metadata": {},
   "outputs": [
    {
     "data": {
      "text/plain": [
       "{'n_estimators': 200,\n",
       " 'min_samples_split': 2,\n",
       " 'min_samples_leaf': 1,\n",
       " 'max_features': 'log2',\n",
       " 'max_depth': 80,\n",
       " 'criterion': 'entropy'}"
      ]
     },
     "execution_count": 83,
     "metadata": {},
     "output_type": "execute_result"
    }
   ],
   "source": [
    "rf_randomcv.best_params_"
   ]
  },
  {
   "cell_type": "code",
   "execution_count": 84,
   "id": "4c4a5158",
   "metadata": {},
   "outputs": [],
   "source": [
    "best_random_grid=rf_randomcv.best_estimator_"
   ]
  },
  {
   "cell_type": "code",
   "execution_count": 85,
   "id": "af334308",
   "metadata": {},
   "outputs": [
    {
     "name": "stdout",
     "output_type": "stream",
     "text": [
      "[[1677  190]\n",
      " [ 488  640]]\n",
      "0.7736227045075125\n",
      "              precision    recall  f1-score   support\n",
      "\n",
      "           0       0.77      0.90      0.83      1867\n",
      "           1       0.77      0.57      0.65      1128\n",
      "\n",
      "    accuracy                           0.77      2995\n",
      "   macro avg       0.77      0.73      0.74      2995\n",
      "weighted avg       0.77      0.77      0.76      2995\n",
      "\n"
     ]
    }
   ],
   "source": [
    "pred_rf = best_random_grid.predict(x_test_1)\n",
    "print(confusion_matrix(y_test,pred_rf))\n",
    "print(accuracy_score(y_test,pred_rf))\n",
    "print(classification_report(y_test,pred_rf))"
   ]
  },
  {
   "cell_type": "markdown",
   "id": "4be64903",
   "metadata": {},
   "source": [
    "Accuracy increased a little bit. We will try Grid Search CV"
   ]
  },
  {
   "cell_type": "markdown",
   "id": "7991f142",
   "metadata": {},
   "source": [
    "### GridSearch CV"
   ]
  },
  {
   "cell_type": "code",
   "execution_count": 86,
   "id": "f74a2c60",
   "metadata": {},
   "outputs": [
    {
     "data": {
      "text/plain": [
       "{'n_estimators': 200,\n",
       " 'min_samples_split': 2,\n",
       " 'min_samples_leaf': 1,\n",
       " 'max_features': 'log2',\n",
       " 'max_depth': 80,\n",
       " 'criterion': 'entropy'}"
      ]
     },
     "execution_count": 86,
     "metadata": {},
     "output_type": "execute_result"
    }
   ],
   "source": [
    "rf_randomcv.best_params_"
   ]
  },
  {
   "cell_type": "code",
   "execution_count": 87,
   "id": "19c4f218",
   "metadata": {},
   "outputs": [
    {
     "name": "stdout",
     "output_type": "stream",
     "text": [
      "{'criterion': ['entropy'], 'max_depth': [80], 'max_features': ['log2'], 'min_samples_leaf': [1, 3, 5], 'min_samples_split': [3, 4, 5, 6, 7], 'n_estimators': [100, 143, 200, 257, 300]}\n"
     ]
    }
   ],
   "source": [
    "from sklearn.model_selection import GridSearchCV\n",
    "\n",
    "rf_param_grid = {\n",
    "    'criterion': [rf_randomcv.best_params_['criterion']],\n",
    "    'max_depth': [rf_randomcv.best_params_['max_depth']],\n",
    "    'max_features': [rf_randomcv.best_params_['max_features']],\n",
    "    'min_samples_leaf': [rf_randomcv.best_params_['min_samples_leaf'], \n",
    "                         rf_randomcv.best_params_['min_samples_leaf']+2, \n",
    "                         rf_randomcv.best_params_['min_samples_leaf'] + 4],\n",
    "    'min_samples_split': [rf_randomcv.best_params_['min_samples_split'] + 1,\n",
    "                          rf_randomcv.best_params_['min_samples_split'] + 2,\n",
    "                          rf_randomcv.best_params_['min_samples_split'] + 3, \n",
    "                          rf_randomcv.best_params_['min_samples_split'] + 4,\n",
    "                          rf_randomcv.best_params_['min_samples_split'] + 5],\n",
    "    'n_estimators': [rf_randomcv.best_params_['n_estimators'] - 100, rf_randomcv.best_params_['n_estimators'] - 57, \n",
    "                     rf_randomcv.best_params_['n_estimators'], \n",
    "                     rf_randomcv.best_params_['n_estimators'] + 57, rf_randomcv.best_params_['n_estimators'] + 100]\n",
    "}\n",
    "\n",
    "print(rf_param_grid)"
   ]
  },
  {
   "cell_type": "code",
   "execution_count": 88,
   "id": "2b8fdbf4",
   "metadata": {},
   "outputs": [
    {
     "name": "stdout",
     "output_type": "stream",
     "text": [
      "Fitting 10 folds for each of 75 candidates, totalling 750 fits\n"
     ]
    },
    {
     "data": {
      "text/plain": [
       "GridSearchCV(cv=10, estimator=RandomForestClassifier(), n_jobs=-1,\n",
       "             param_grid={'criterion': ['entropy'], 'max_depth': [80],\n",
       "                         'max_features': ['log2'],\n",
       "                         'min_samples_leaf': [1, 3, 5],\n",
       "                         'min_samples_split': [3, 4, 5, 6, 7],\n",
       "                         'n_estimators': [100, 143, 200, 257, 300]},\n",
       "             verbose=2)"
      ]
     },
     "execution_count": 88,
     "metadata": {},
     "output_type": "execute_result"
    }
   ],
   "source": [
    "# Fit the grid_search to the data\n",
    "\n",
    "rf=RandomForestClassifier()\n",
    "grid_search=GridSearchCV(estimator=rf,param_grid=rf_param_grid,cv=10,n_jobs=-1,verbose=2)\n",
    "grid_search.fit(x_train_1,y_train)"
   ]
  },
  {
   "cell_type": "code",
   "execution_count": 89,
   "id": "3decedb5",
   "metadata": {},
   "outputs": [
    {
     "data": {
      "text/plain": [
       "RandomForestClassifier(criterion='entropy', max_depth=80, max_features='log2',\n",
       "                       min_samples_split=3, n_estimators=300)"
      ]
     },
     "execution_count": 89,
     "metadata": {},
     "output_type": "execute_result"
    }
   ],
   "source": [
    "grid_search.best_estimator_"
   ]
  },
  {
   "cell_type": "code",
   "execution_count": 90,
   "id": "992604b2",
   "metadata": {},
   "outputs": [],
   "source": [
    "rf_best_grid=grid_search.best_estimator_"
   ]
  },
  {
   "cell_type": "code",
   "execution_count": 91,
   "id": "8d7274b9",
   "metadata": {},
   "outputs": [
    {
     "name": "stdout",
     "output_type": "stream",
     "text": [
      "[[1658  209]\n",
      " [ 497  631]]\n",
      "Accuracy Score 0.7642737896494157\n",
      "Classification report:               precision    recall  f1-score   support\n",
      "\n",
      "           0       0.77      0.89      0.82      1867\n",
      "           1       0.75      0.56      0.64      1128\n",
      "\n",
      "    accuracy                           0.76      2995\n",
      "   macro avg       0.76      0.72      0.73      2995\n",
      "weighted avg       0.76      0.76      0.76      2995\n",
      "\n"
     ]
    }
   ],
   "source": [
    "y_pred_grid=rf_best_grid.predict(x_test_1)\n",
    "print(confusion_matrix(y_test,y_pred_grid))\n",
    "print(\"Accuracy Score {}\".format(accuracy_score(y_test,y_pred_grid)))\n",
    "print(\"Classification report: {}\".format(classification_report(y_test,y_pred_grid)))"
   ]
  },
  {
   "cell_type": "markdown",
   "id": "9a40da07",
   "metadata": {},
   "source": [
    "### Attempt 5\n",
    "\n",
    "**KNN**"
   ]
  },
  {
   "cell_type": "code",
   "execution_count": 92,
   "id": "72dbbf57",
   "metadata": {},
   "outputs": [
    {
     "name": "stdout",
     "output_type": "stream",
     "text": [
      "Accuracy is  75.6594323873122 % for K-Value: 1\n",
      "[[1633  234]\n",
      " [ 495  633]]\n",
      "Accuracy is  71.21869782971619 % for K-Value: 2\n",
      "[[1760  107]\n",
      " [ 755  373]]\n",
      "Accuracy is  66.4440734557596 % for K-Value: 3\n",
      "[[1486  381]\n",
      " [ 624  504]]\n",
      "Accuracy is  65.9432387312187 % for K-Value: 4\n",
      "[[1622  245]\n",
      " [ 775  353]]\n",
      "Accuracy is  66.6110183639399 % for K-Value: 5\n",
      "[[1478  389]\n",
      " [ 611  517]]\n",
      "Accuracy is  64.90818030050085 % for K-Value: 6\n",
      "[[1590  277]\n",
      " [ 774  354]]\n",
      "Accuracy is  64.34056761268782 % for K-Value: 7\n",
      "[[1468  399]\n",
      " [ 669  459]]\n",
      "Accuracy is  64.00667779632721 % for K-Value: 8\n",
      "[[1577  290]\n",
      " [ 788  340]]\n",
      "Accuracy is  64.30717863105176 % for K-Value: 9\n",
      "[[1493  374]\n",
      " [ 695  433]]\n",
      "Accuracy is  64.57429048414023 % for K-Value: 10\n",
      "[[1582  285]\n",
      " [ 776  352]]\n"
     ]
    }
   ],
   "source": [
    "# Create-KNN-model by checking upto 10 neighbours\n",
    "\n",
    "from sklearn.neighbors import KNeighborsClassifier\n",
    "KNN = KNeighborsClassifier()\n",
    "\n",
    "for K in range(10):\n",
    "    K_value = K+1\n",
    "    neigh = KNeighborsClassifier(n_neighbors = K_value, weights='uniform', algorithm='auto')\n",
    "    neigh.fit(x_train_1, y_train) \n",
    "    y_pred_k = neigh.predict(x_test_1)\n",
    "    print (\"Accuracy is \", accuracy_score(y_test,y_pred_k)*100,\"% for K-Value:\",K_value)\n",
    "    print(confusion_matrix(y_test, y_pred_k))"
   ]
  },
  {
   "cell_type": "markdown",
   "id": "6056ccfb",
   "metadata": {},
   "source": [
    "**After KNN we have tried SVC, but that was giving same results, hence dropped from the final output. Here, We have implemented in total 6 ML models and calculated their accuracy. We have also implemented Hyperparametric Tuning out of which we have concluded that Decision Trees classifiier has shown the best accuracy result (77.4%). We will use Decision Trees Classifier after Randomized Search Cv as our final model.**"
   ]
  },
  {
   "cell_type": "markdown",
   "id": "a6249567",
   "metadata": {},
   "source": [
    "## Calculating loss comapany will face for false predictions"
   ]
  },
  {
   "cell_type": "code",
   "execution_count": 93,
   "id": "443e272a",
   "metadata": {},
   "outputs": [
    {
     "data": {
      "text/html": [
       "<div>\n",
       "<style scoped>\n",
       "    .dataframe tbody tr th:only-of-type {\n",
       "        vertical-align: middle;\n",
       "    }\n",
       "\n",
       "    .dataframe tbody tr th {\n",
       "        vertical-align: top;\n",
       "    }\n",
       "\n",
       "    .dataframe thead th {\n",
       "        text-align: right;\n",
       "    }\n",
       "</style>\n",
       "<table border=\"1\" class=\"dataframe\">\n",
       "  <thead>\n",
       "    <tr style=\"text-align: right;\">\n",
       "      <th></th>\n",
       "      <th>Deal Cost</th>\n",
       "      <th>Client Category_Automobiles</th>\n",
       "      <th>Client Category_Consulting</th>\n",
       "      <th>Client Category_Consumer Good</th>\n",
       "      <th>Client Category_Domestic Bank</th>\n",
       "      <th>Client Category_Domestic Private Bank</th>\n",
       "      <th>Client Category_Domestic Public Bank</th>\n",
       "      <th>Client Category_Electronics</th>\n",
       "      <th>Client Category_Energy</th>\n",
       "      <th>Client Category_Energy</th>\n",
       "      <th>...</th>\n",
       "      <th>Location_L2</th>\n",
       "      <th>Location_L3</th>\n",
       "      <th>Location_L4</th>\n",
       "      <th>Location_L5</th>\n",
       "      <th>Location_L6</th>\n",
       "      <th>Location_L7</th>\n",
       "      <th>Location_L8</th>\n",
       "      <th>Location_L9</th>\n",
       "      <th>Location_Others</th>\n",
       "      <th>Actual</th>\n",
       "    </tr>\n",
       "  </thead>\n",
       "  <tbody>\n",
       "    <tr>\n",
       "      <th>5351</th>\n",
       "      <td>441176.47</td>\n",
       "      <td>0</td>\n",
       "      <td>1</td>\n",
       "      <td>0</td>\n",
       "      <td>0</td>\n",
       "      <td>0</td>\n",
       "      <td>0</td>\n",
       "      <td>0</td>\n",
       "      <td>0</td>\n",
       "      <td>0</td>\n",
       "      <td>...</td>\n",
       "      <td>0</td>\n",
       "      <td>0</td>\n",
       "      <td>0</td>\n",
       "      <td>1</td>\n",
       "      <td>0</td>\n",
       "      <td>0</td>\n",
       "      <td>0</td>\n",
       "      <td>0</td>\n",
       "      <td>0</td>\n",
       "      <td>0</td>\n",
       "    </tr>\n",
       "    <tr>\n",
       "      <th>2389</th>\n",
       "      <td>47058.82</td>\n",
       "      <td>0</td>\n",
       "      <td>0</td>\n",
       "      <td>0</td>\n",
       "      <td>0</td>\n",
       "      <td>0</td>\n",
       "      <td>0</td>\n",
       "      <td>0</td>\n",
       "      <td>0</td>\n",
       "      <td>0</td>\n",
       "      <td>...</td>\n",
       "      <td>0</td>\n",
       "      <td>0</td>\n",
       "      <td>0</td>\n",
       "      <td>0</td>\n",
       "      <td>0</td>\n",
       "      <td>0</td>\n",
       "      <td>0</td>\n",
       "      <td>0</td>\n",
       "      <td>0</td>\n",
       "      <td>1</td>\n",
       "    </tr>\n",
       "    <tr>\n",
       "      <th>3876</th>\n",
       "      <td>176470.59</td>\n",
       "      <td>0</td>\n",
       "      <td>0</td>\n",
       "      <td>0</td>\n",
       "      <td>0</td>\n",
       "      <td>0</td>\n",
       "      <td>0</td>\n",
       "      <td>0</td>\n",
       "      <td>0</td>\n",
       "      <td>0</td>\n",
       "      <td>...</td>\n",
       "      <td>0</td>\n",
       "      <td>0</td>\n",
       "      <td>0</td>\n",
       "      <td>0</td>\n",
       "      <td>0</td>\n",
       "      <td>0</td>\n",
       "      <td>0</td>\n",
       "      <td>0</td>\n",
       "      <td>0</td>\n",
       "      <td>0</td>\n",
       "    </tr>\n",
       "    <tr>\n",
       "      <th>523</th>\n",
       "      <td>470588.24</td>\n",
       "      <td>0</td>\n",
       "      <td>0</td>\n",
       "      <td>0</td>\n",
       "      <td>0</td>\n",
       "      <td>0</td>\n",
       "      <td>0</td>\n",
       "      <td>0</td>\n",
       "      <td>0</td>\n",
       "      <td>0</td>\n",
       "      <td>...</td>\n",
       "      <td>0</td>\n",
       "      <td>0</td>\n",
       "      <td>0</td>\n",
       "      <td>0</td>\n",
       "      <td>0</td>\n",
       "      <td>0</td>\n",
       "      <td>0</td>\n",
       "      <td>0</td>\n",
       "      <td>1</td>\n",
       "      <td>1</td>\n",
       "    </tr>\n",
       "    <tr>\n",
       "      <th>5688</th>\n",
       "      <td>1470.59</td>\n",
       "      <td>0</td>\n",
       "      <td>0</td>\n",
       "      <td>0</td>\n",
       "      <td>0</td>\n",
       "      <td>0</td>\n",
       "      <td>0</td>\n",
       "      <td>0</td>\n",
       "      <td>0</td>\n",
       "      <td>0</td>\n",
       "      <td>...</td>\n",
       "      <td>0</td>\n",
       "      <td>0</td>\n",
       "      <td>0</td>\n",
       "      <td>1</td>\n",
       "      <td>0</td>\n",
       "      <td>0</td>\n",
       "      <td>0</td>\n",
       "      <td>0</td>\n",
       "      <td>0</td>\n",
       "      <td>0</td>\n",
       "    </tr>\n",
       "    <tr>\n",
       "      <th>...</th>\n",
       "      <td>...</td>\n",
       "      <td>...</td>\n",
       "      <td>...</td>\n",
       "      <td>...</td>\n",
       "      <td>...</td>\n",
       "      <td>...</td>\n",
       "      <td>...</td>\n",
       "      <td>...</td>\n",
       "      <td>...</td>\n",
       "      <td>...</td>\n",
       "      <td>...</td>\n",
       "      <td>...</td>\n",
       "      <td>...</td>\n",
       "      <td>...</td>\n",
       "      <td>...</td>\n",
       "      <td>...</td>\n",
       "      <td>...</td>\n",
       "      <td>...</td>\n",
       "      <td>...</td>\n",
       "      <td>...</td>\n",
       "      <td>...</td>\n",
       "    </tr>\n",
       "    <tr>\n",
       "      <th>5200</th>\n",
       "      <td>1235294.12</td>\n",
       "      <td>0</td>\n",
       "      <td>0</td>\n",
       "      <td>0</td>\n",
       "      <td>0</td>\n",
       "      <td>0</td>\n",
       "      <td>0</td>\n",
       "      <td>0</td>\n",
       "      <td>0</td>\n",
       "      <td>0</td>\n",
       "      <td>...</td>\n",
       "      <td>0</td>\n",
       "      <td>0</td>\n",
       "      <td>0</td>\n",
       "      <td>0</td>\n",
       "      <td>0</td>\n",
       "      <td>0</td>\n",
       "      <td>0</td>\n",
       "      <td>0</td>\n",
       "      <td>0</td>\n",
       "      <td>1</td>\n",
       "    </tr>\n",
       "    <tr>\n",
       "      <th>574</th>\n",
       "      <td>1823529.41</td>\n",
       "      <td>0</td>\n",
       "      <td>0</td>\n",
       "      <td>0</td>\n",
       "      <td>0</td>\n",
       "      <td>0</td>\n",
       "      <td>0</td>\n",
       "      <td>0</td>\n",
       "      <td>0</td>\n",
       "      <td>0</td>\n",
       "      <td>...</td>\n",
       "      <td>0</td>\n",
       "      <td>0</td>\n",
       "      <td>0</td>\n",
       "      <td>0</td>\n",
       "      <td>0</td>\n",
       "      <td>1</td>\n",
       "      <td>0</td>\n",
       "      <td>0</td>\n",
       "      <td>0</td>\n",
       "      <td>0</td>\n",
       "    </tr>\n",
       "    <tr>\n",
       "      <th>8444</th>\n",
       "      <td>235294.12</td>\n",
       "      <td>0</td>\n",
       "      <td>0</td>\n",
       "      <td>0</td>\n",
       "      <td>0</td>\n",
       "      <td>0</td>\n",
       "      <td>0</td>\n",
       "      <td>0</td>\n",
       "      <td>0</td>\n",
       "      <td>0</td>\n",
       "      <td>...</td>\n",
       "      <td>0</td>\n",
       "      <td>0</td>\n",
       "      <td>0</td>\n",
       "      <td>0</td>\n",
       "      <td>0</td>\n",
       "      <td>0</td>\n",
       "      <td>0</td>\n",
       "      <td>0</td>\n",
       "      <td>0</td>\n",
       "      <td>0</td>\n",
       "    </tr>\n",
       "    <tr>\n",
       "      <th>9747</th>\n",
       "      <td>1014705.88</td>\n",
       "      <td>0</td>\n",
       "      <td>0</td>\n",
       "      <td>0</td>\n",
       "      <td>0</td>\n",
       "      <td>1</td>\n",
       "      <td>0</td>\n",
       "      <td>0</td>\n",
       "      <td>0</td>\n",
       "      <td>0</td>\n",
       "      <td>...</td>\n",
       "      <td>0</td>\n",
       "      <td>0</td>\n",
       "      <td>0</td>\n",
       "      <td>0</td>\n",
       "      <td>0</td>\n",
       "      <td>0</td>\n",
       "      <td>0</td>\n",
       "      <td>1</td>\n",
       "      <td>0</td>\n",
       "      <td>0</td>\n",
       "    </tr>\n",
       "    <tr>\n",
       "      <th>3318</th>\n",
       "      <td>352941.18</td>\n",
       "      <td>0</td>\n",
       "      <td>0</td>\n",
       "      <td>0</td>\n",
       "      <td>0</td>\n",
       "      <td>0</td>\n",
       "      <td>0</td>\n",
       "      <td>0</td>\n",
       "      <td>0</td>\n",
       "      <td>0</td>\n",
       "      <td>...</td>\n",
       "      <td>0</td>\n",
       "      <td>0</td>\n",
       "      <td>0</td>\n",
       "      <td>0</td>\n",
       "      <td>0</td>\n",
       "      <td>0</td>\n",
       "      <td>0</td>\n",
       "      <td>0</td>\n",
       "      <td>0</td>\n",
       "      <td>0</td>\n",
       "    </tr>\n",
       "  </tbody>\n",
       "</table>\n",
       "<p>2995 rows × 120 columns</p>\n",
       "</div>"
      ],
      "text/plain": [
       "       Deal Cost  Client Category_Automobiles  Client Category_Consulting  \\\n",
       "5351   441176.47                            0                           1   \n",
       "2389    47058.82                            0                           0   \n",
       "3876   176470.59                            0                           0   \n",
       "523    470588.24                            0                           0   \n",
       "5688     1470.59                            0                           0   \n",
       "...          ...                          ...                         ...   \n",
       "5200  1235294.12                            0                           0   \n",
       "574   1823529.41                            0                           0   \n",
       "8444   235294.12                            0                           0   \n",
       "9747  1014705.88                            0                           0   \n",
       "3318   352941.18                            0                           0   \n",
       "\n",
       "      Client Category_Consumer Good  Client Category_Domestic Bank  \\\n",
       "5351                              0                              0   \n",
       "2389                              0                              0   \n",
       "3876                              0                              0   \n",
       "523                               0                              0   \n",
       "5688                              0                              0   \n",
       "...                             ...                            ...   \n",
       "5200                              0                              0   \n",
       "574                               0                              0   \n",
       "8444                              0                              0   \n",
       "9747                              0                              0   \n",
       "3318                              0                              0   \n",
       "\n",
       "      Client Category_Domestic Private Bank  \\\n",
       "5351                                      0   \n",
       "2389                                      0   \n",
       "3876                                      0   \n",
       "523                                       0   \n",
       "5688                                      0   \n",
       "...                                     ...   \n",
       "5200                                      0   \n",
       "574                                       0   \n",
       "8444                                      0   \n",
       "9747                                      1   \n",
       "3318                                      0   \n",
       "\n",
       "      Client Category_Domestic Public Bank  Client Category_Electronics  \\\n",
       "5351                                     0                            0   \n",
       "2389                                     0                            0   \n",
       "3876                                     0                            0   \n",
       "523                                      0                            0   \n",
       "5688                                     0                            0   \n",
       "...                                    ...                          ...   \n",
       "5200                                     0                            0   \n",
       "574                                      0                            0   \n",
       "8444                                     0                            0   \n",
       "9747                                     0                            0   \n",
       "3318                                     0                            0   \n",
       "\n",
       "      Client Category_Energy  Client Category_Energy   ...  Location_L2  \\\n",
       "5351                       0                        0  ...            0   \n",
       "2389                       0                        0  ...            0   \n",
       "3876                       0                        0  ...            0   \n",
       "523                        0                        0  ...            0   \n",
       "5688                       0                        0  ...            0   \n",
       "...                      ...                      ...  ...          ...   \n",
       "5200                       0                        0  ...            0   \n",
       "574                        0                        0  ...            0   \n",
       "8444                       0                        0  ...            0   \n",
       "9747                       0                        0  ...            0   \n",
       "3318                       0                        0  ...            0   \n",
       "\n",
       "      Location_L3  Location_L4  Location_L5  Location_L6  Location_L7  \\\n",
       "5351            0            0            1            0            0   \n",
       "2389            0            0            0            0            0   \n",
       "3876            0            0            0            0            0   \n",
       "523             0            0            0            0            0   \n",
       "5688            0            0            1            0            0   \n",
       "...           ...          ...          ...          ...          ...   \n",
       "5200            0            0            0            0            0   \n",
       "574             0            0            0            0            1   \n",
       "8444            0            0            0            0            0   \n",
       "9747            0            0            0            0            0   \n",
       "3318            0            0            0            0            0   \n",
       "\n",
       "      Location_L8  Location_L9  Location_Others  Actual  \n",
       "5351            0            0                0       0  \n",
       "2389            0            0                0       1  \n",
       "3876            0            0                0       0  \n",
       "523             0            0                1       1  \n",
       "5688            0            0                0       0  \n",
       "...           ...          ...              ...     ...  \n",
       "5200            0            0                0       1  \n",
       "574             0            0                0       0  \n",
       "8444            0            0                0       0  \n",
       "9747            0            1                0       0  \n",
       "3318            0            0                0       0  \n",
       "\n",
       "[2995 rows x 120 columns]"
      ]
     },
     "execution_count": 93,
     "metadata": {},
     "output_type": "execute_result"
    }
   ],
   "source": [
    "x_test"
   ]
  },
  {
   "cell_type": "code",
   "execution_count": 110,
   "id": "0b207035",
   "metadata": {},
   "outputs": [
    {
     "name": "stderr",
     "output_type": "stream",
     "text": [
      "<ipython-input-110-c8cbab6a813e>:2: SettingWithCopyWarning: \n",
      "A value is trying to be set on a copy of a slice from a DataFrame.\n",
      "Try using .loc[row_indexer,col_indexer] = value instead\n",
      "\n",
      "See the caveats in the documentation: https://pandas.pydata.org/pandas-docs/stable/user_guide/indexing.html#returning-a-view-versus-a-copy\n",
      "  x_test['Predictions'] = y_pred_dt\n"
     ]
    },
    {
     "data": {
      "text/html": [
       "<div>\n",
       "<style scoped>\n",
       "    .dataframe tbody tr th:only-of-type {\n",
       "        vertical-align: middle;\n",
       "    }\n",
       "\n",
       "    .dataframe tbody tr th {\n",
       "        vertical-align: top;\n",
       "    }\n",
       "\n",
       "    .dataframe thead th {\n",
       "        text-align: right;\n",
       "    }\n",
       "</style>\n",
       "<table border=\"1\" class=\"dataframe\">\n",
       "  <thead>\n",
       "    <tr style=\"text-align: right;\">\n",
       "      <th></th>\n",
       "      <th>Deal Cost</th>\n",
       "      <th>Client Category_Automobiles</th>\n",
       "      <th>Client Category_Consulting</th>\n",
       "      <th>Client Category_Consumer Good</th>\n",
       "      <th>Client Category_Domestic Bank</th>\n",
       "      <th>Client Category_Domestic Private Bank</th>\n",
       "      <th>Client Category_Domestic Public Bank</th>\n",
       "      <th>Client Category_Electronics</th>\n",
       "      <th>Client Category_Energy</th>\n",
       "      <th>Client Category_Energy</th>\n",
       "      <th>...</th>\n",
       "      <th>Location_L3</th>\n",
       "      <th>Location_L4</th>\n",
       "      <th>Location_L5</th>\n",
       "      <th>Location_L6</th>\n",
       "      <th>Location_L7</th>\n",
       "      <th>Location_L8</th>\n",
       "      <th>Location_L9</th>\n",
       "      <th>Location_Others</th>\n",
       "      <th>Actual</th>\n",
       "      <th>Predictions</th>\n",
       "    </tr>\n",
       "  </thead>\n",
       "  <tbody>\n",
       "    <tr>\n",
       "      <th>5351</th>\n",
       "      <td>441176.47</td>\n",
       "      <td>0</td>\n",
       "      <td>1</td>\n",
       "      <td>0</td>\n",
       "      <td>0</td>\n",
       "      <td>0</td>\n",
       "      <td>0</td>\n",
       "      <td>0</td>\n",
       "      <td>0</td>\n",
       "      <td>0</td>\n",
       "      <td>...</td>\n",
       "      <td>0</td>\n",
       "      <td>0</td>\n",
       "      <td>1</td>\n",
       "      <td>0</td>\n",
       "      <td>0</td>\n",
       "      <td>0</td>\n",
       "      <td>0</td>\n",
       "      <td>0</td>\n",
       "      <td>0</td>\n",
       "      <td>0</td>\n",
       "    </tr>\n",
       "    <tr>\n",
       "      <th>2389</th>\n",
       "      <td>47058.82</td>\n",
       "      <td>0</td>\n",
       "      <td>0</td>\n",
       "      <td>0</td>\n",
       "      <td>0</td>\n",
       "      <td>0</td>\n",
       "      <td>0</td>\n",
       "      <td>0</td>\n",
       "      <td>0</td>\n",
       "      <td>0</td>\n",
       "      <td>...</td>\n",
       "      <td>0</td>\n",
       "      <td>0</td>\n",
       "      <td>0</td>\n",
       "      <td>0</td>\n",
       "      <td>0</td>\n",
       "      <td>0</td>\n",
       "      <td>0</td>\n",
       "      <td>0</td>\n",
       "      <td>1</td>\n",
       "      <td>1</td>\n",
       "    </tr>\n",
       "    <tr>\n",
       "      <th>3876</th>\n",
       "      <td>176470.59</td>\n",
       "      <td>0</td>\n",
       "      <td>0</td>\n",
       "      <td>0</td>\n",
       "      <td>0</td>\n",
       "      <td>0</td>\n",
       "      <td>0</td>\n",
       "      <td>0</td>\n",
       "      <td>0</td>\n",
       "      <td>0</td>\n",
       "      <td>...</td>\n",
       "      <td>0</td>\n",
       "      <td>0</td>\n",
       "      <td>0</td>\n",
       "      <td>0</td>\n",
       "      <td>0</td>\n",
       "      <td>0</td>\n",
       "      <td>0</td>\n",
       "      <td>0</td>\n",
       "      <td>0</td>\n",
       "      <td>0</td>\n",
       "    </tr>\n",
       "    <tr>\n",
       "      <th>523</th>\n",
       "      <td>470588.24</td>\n",
       "      <td>0</td>\n",
       "      <td>0</td>\n",
       "      <td>0</td>\n",
       "      <td>0</td>\n",
       "      <td>0</td>\n",
       "      <td>0</td>\n",
       "      <td>0</td>\n",
       "      <td>0</td>\n",
       "      <td>0</td>\n",
       "      <td>...</td>\n",
       "      <td>0</td>\n",
       "      <td>0</td>\n",
       "      <td>0</td>\n",
       "      <td>0</td>\n",
       "      <td>0</td>\n",
       "      <td>0</td>\n",
       "      <td>0</td>\n",
       "      <td>1</td>\n",
       "      <td>1</td>\n",
       "      <td>1</td>\n",
       "    </tr>\n",
       "    <tr>\n",
       "      <th>5688</th>\n",
       "      <td>1470.59</td>\n",
       "      <td>0</td>\n",
       "      <td>0</td>\n",
       "      <td>0</td>\n",
       "      <td>0</td>\n",
       "      <td>0</td>\n",
       "      <td>0</td>\n",
       "      <td>0</td>\n",
       "      <td>0</td>\n",
       "      <td>0</td>\n",
       "      <td>...</td>\n",
       "      <td>0</td>\n",
       "      <td>0</td>\n",
       "      <td>1</td>\n",
       "      <td>0</td>\n",
       "      <td>0</td>\n",
       "      <td>0</td>\n",
       "      <td>0</td>\n",
       "      <td>0</td>\n",
       "      <td>0</td>\n",
       "      <td>0</td>\n",
       "    </tr>\n",
       "    <tr>\n",
       "      <th>...</th>\n",
       "      <td>...</td>\n",
       "      <td>...</td>\n",
       "      <td>...</td>\n",
       "      <td>...</td>\n",
       "      <td>...</td>\n",
       "      <td>...</td>\n",
       "      <td>...</td>\n",
       "      <td>...</td>\n",
       "      <td>...</td>\n",
       "      <td>...</td>\n",
       "      <td>...</td>\n",
       "      <td>...</td>\n",
       "      <td>...</td>\n",
       "      <td>...</td>\n",
       "      <td>...</td>\n",
       "      <td>...</td>\n",
       "      <td>...</td>\n",
       "      <td>...</td>\n",
       "      <td>...</td>\n",
       "      <td>...</td>\n",
       "      <td>...</td>\n",
       "    </tr>\n",
       "    <tr>\n",
       "      <th>5200</th>\n",
       "      <td>1235294.12</td>\n",
       "      <td>0</td>\n",
       "      <td>0</td>\n",
       "      <td>0</td>\n",
       "      <td>0</td>\n",
       "      <td>0</td>\n",
       "      <td>0</td>\n",
       "      <td>0</td>\n",
       "      <td>0</td>\n",
       "      <td>0</td>\n",
       "      <td>...</td>\n",
       "      <td>0</td>\n",
       "      <td>0</td>\n",
       "      <td>0</td>\n",
       "      <td>0</td>\n",
       "      <td>0</td>\n",
       "      <td>0</td>\n",
       "      <td>0</td>\n",
       "      <td>0</td>\n",
       "      <td>1</td>\n",
       "      <td>0</td>\n",
       "    </tr>\n",
       "    <tr>\n",
       "      <th>574</th>\n",
       "      <td>1823529.41</td>\n",
       "      <td>0</td>\n",
       "      <td>0</td>\n",
       "      <td>0</td>\n",
       "      <td>0</td>\n",
       "      <td>0</td>\n",
       "      <td>0</td>\n",
       "      <td>0</td>\n",
       "      <td>0</td>\n",
       "      <td>0</td>\n",
       "      <td>...</td>\n",
       "      <td>0</td>\n",
       "      <td>0</td>\n",
       "      <td>0</td>\n",
       "      <td>0</td>\n",
       "      <td>1</td>\n",
       "      <td>0</td>\n",
       "      <td>0</td>\n",
       "      <td>0</td>\n",
       "      <td>0</td>\n",
       "      <td>0</td>\n",
       "    </tr>\n",
       "    <tr>\n",
       "      <th>8444</th>\n",
       "      <td>235294.12</td>\n",
       "      <td>0</td>\n",
       "      <td>0</td>\n",
       "      <td>0</td>\n",
       "      <td>0</td>\n",
       "      <td>0</td>\n",
       "      <td>0</td>\n",
       "      <td>0</td>\n",
       "      <td>0</td>\n",
       "      <td>0</td>\n",
       "      <td>...</td>\n",
       "      <td>0</td>\n",
       "      <td>0</td>\n",
       "      <td>0</td>\n",
       "      <td>0</td>\n",
       "      <td>0</td>\n",
       "      <td>0</td>\n",
       "      <td>0</td>\n",
       "      <td>0</td>\n",
       "      <td>0</td>\n",
       "      <td>0</td>\n",
       "    </tr>\n",
       "    <tr>\n",
       "      <th>9747</th>\n",
       "      <td>1014705.88</td>\n",
       "      <td>0</td>\n",
       "      <td>0</td>\n",
       "      <td>0</td>\n",
       "      <td>0</td>\n",
       "      <td>1</td>\n",
       "      <td>0</td>\n",
       "      <td>0</td>\n",
       "      <td>0</td>\n",
       "      <td>0</td>\n",
       "      <td>...</td>\n",
       "      <td>0</td>\n",
       "      <td>0</td>\n",
       "      <td>0</td>\n",
       "      <td>0</td>\n",
       "      <td>0</td>\n",
       "      <td>0</td>\n",
       "      <td>1</td>\n",
       "      <td>0</td>\n",
       "      <td>0</td>\n",
       "      <td>0</td>\n",
       "    </tr>\n",
       "    <tr>\n",
       "      <th>3318</th>\n",
       "      <td>352941.18</td>\n",
       "      <td>0</td>\n",
       "      <td>0</td>\n",
       "      <td>0</td>\n",
       "      <td>0</td>\n",
       "      <td>0</td>\n",
       "      <td>0</td>\n",
       "      <td>0</td>\n",
       "      <td>0</td>\n",
       "      <td>0</td>\n",
       "      <td>...</td>\n",
       "      <td>0</td>\n",
       "      <td>0</td>\n",
       "      <td>0</td>\n",
       "      <td>0</td>\n",
       "      <td>0</td>\n",
       "      <td>0</td>\n",
       "      <td>0</td>\n",
       "      <td>0</td>\n",
       "      <td>0</td>\n",
       "      <td>0</td>\n",
       "    </tr>\n",
       "  </tbody>\n",
       "</table>\n",
       "<p>2995 rows × 121 columns</p>\n",
       "</div>"
      ],
      "text/plain": [
       "       Deal Cost  Client Category_Automobiles  Client Category_Consulting  \\\n",
       "5351   441176.47                            0                           1   \n",
       "2389    47058.82                            0                           0   \n",
       "3876   176470.59                            0                           0   \n",
       "523    470588.24                            0                           0   \n",
       "5688     1470.59                            0                           0   \n",
       "...          ...                          ...                         ...   \n",
       "5200  1235294.12                            0                           0   \n",
       "574   1823529.41                            0                           0   \n",
       "8444   235294.12                            0                           0   \n",
       "9747  1014705.88                            0                           0   \n",
       "3318   352941.18                            0                           0   \n",
       "\n",
       "      Client Category_Consumer Good  Client Category_Domestic Bank  \\\n",
       "5351                              0                              0   \n",
       "2389                              0                              0   \n",
       "3876                              0                              0   \n",
       "523                               0                              0   \n",
       "5688                              0                              0   \n",
       "...                             ...                            ...   \n",
       "5200                              0                              0   \n",
       "574                               0                              0   \n",
       "8444                              0                              0   \n",
       "9747                              0                              0   \n",
       "3318                              0                              0   \n",
       "\n",
       "      Client Category_Domestic Private Bank  \\\n",
       "5351                                      0   \n",
       "2389                                      0   \n",
       "3876                                      0   \n",
       "523                                       0   \n",
       "5688                                      0   \n",
       "...                                     ...   \n",
       "5200                                      0   \n",
       "574                                       0   \n",
       "8444                                      0   \n",
       "9747                                      1   \n",
       "3318                                      0   \n",
       "\n",
       "      Client Category_Domestic Public Bank  Client Category_Electronics  \\\n",
       "5351                                     0                            0   \n",
       "2389                                     0                            0   \n",
       "3876                                     0                            0   \n",
       "523                                      0                            0   \n",
       "5688                                     0                            0   \n",
       "...                                    ...                          ...   \n",
       "5200                                     0                            0   \n",
       "574                                      0                            0   \n",
       "8444                                     0                            0   \n",
       "9747                                     0                            0   \n",
       "3318                                     0                            0   \n",
       "\n",
       "      Client Category_Energy  Client Category_Energy   ...  Location_L3  \\\n",
       "5351                       0                        0  ...            0   \n",
       "2389                       0                        0  ...            0   \n",
       "3876                       0                        0  ...            0   \n",
       "523                        0                        0  ...            0   \n",
       "5688                       0                        0  ...            0   \n",
       "...                      ...                      ...  ...          ...   \n",
       "5200                       0                        0  ...            0   \n",
       "574                        0                        0  ...            0   \n",
       "8444                       0                        0  ...            0   \n",
       "9747                       0                        0  ...            0   \n",
       "3318                       0                        0  ...            0   \n",
       "\n",
       "      Location_L4  Location_L5  Location_L6  Location_L7  Location_L8  \\\n",
       "5351            0            1            0            0            0   \n",
       "2389            0            0            0            0            0   \n",
       "3876            0            0            0            0            0   \n",
       "523             0            0            0            0            0   \n",
       "5688            0            1            0            0            0   \n",
       "...           ...          ...          ...          ...          ...   \n",
       "5200            0            0            0            0            0   \n",
       "574             0            0            0            1            0   \n",
       "8444            0            0            0            0            0   \n",
       "9747            0            0            0            0            0   \n",
       "3318            0            0            0            0            0   \n",
       "\n",
       "      Location_L9  Location_Others  Actual  Predictions  \n",
       "5351            0                0       0            0  \n",
       "2389            0                0       1            1  \n",
       "3876            0                0       0            0  \n",
       "523             0                1       1            1  \n",
       "5688            0                0       0            0  \n",
       "...           ...              ...     ...          ...  \n",
       "5200            0                0       1            0  \n",
       "574             0                0       0            0  \n",
       "8444            0                0       0            0  \n",
       "9747            1                0       0            0  \n",
       "3318            0                0       0            0  \n",
       "\n",
       "[2995 rows x 121 columns]"
      ]
     },
     "execution_count": 110,
     "metadata": {},
     "output_type": "execute_result"
    }
   ],
   "source": [
    "#Creating one column as predictions where we will put the predictions on training data\n",
    "x_test['Predictions'] = y_pred_dt\n",
    "x_test"
   ]
  },
  {
   "cell_type": "code",
   "execution_count": 111,
   "id": "0dfc325e",
   "metadata": {},
   "outputs": [
    {
     "data": {
      "text/plain": [
       "(194, 121)"
      ]
     },
     "execution_count": 111,
     "metadata": {},
     "output_type": "execute_result"
    }
   ],
   "source": [
    "False_prediction = x_test.loc[(x_test['Actual']==0) & (x_test['Predictions']==1)]\n",
    "False_prediction.shape"
   ]
  },
  {
   "cell_type": "code",
   "execution_count": 112,
   "id": "ae42d4e3",
   "metadata": {},
   "outputs": [
    {
     "data": {
      "text/plain": [
       "106898823.62"
      ]
     },
     "execution_count": 112,
     "metadata": {},
     "output_type": "execute_result"
    }
   ],
   "source": [
    "False_prediction['Deal Cost'].sum().round(2)"
   ]
  },
  {
   "cell_type": "markdown",
   "id": "d366704a",
   "metadata": {},
   "source": [
    "Above we can see that on making predictions on the Test data, we can see that the Total Loss Company will face on false predictions is around **106 Million**"
   ]
  }
 ],
 "metadata": {
  "kernelspec": {
   "display_name": "Python 3",
   "language": "python",
   "name": "python3"
  },
  "language_info": {
   "codemirror_mode": {
    "name": "ipython",
    "version": 3
   },
   "file_extension": ".py",
   "mimetype": "text/x-python",
   "name": "python",
   "nbconvert_exporter": "python",
   "pygments_lexer": "ipython3",
   "version": "3.8.8"
  }
 },
 "nbformat": 4,
 "nbformat_minor": 5
}
